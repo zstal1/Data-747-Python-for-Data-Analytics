{
 "cells": [
  {
   "attachments": {},
   "cell_type": "markdown",
   "metadata": {},
   "source": [
    "## Lab Assignment: Machine Learning with Scikit-Learn\n",
    "Student:     Zachary Stallard\n",
    "\n",
    "### Objective: To give students practical experience in implementing basic machine learning algorithms using Scikit-Learn.\n",
    "\n",
    "### Instructions:\n",
    "Produce four machine learning models (one for each type), using the datasets available in Python.\n",
    "\n",
    "1. Decision Trees\n",
    "- Load the Iris dataset from Scikit-Learn datasets.\n",
    "- Split the dataset into training and testing sets.\n",
    "- Implement a decision tree classifier with a maximum depth of 2 and fit it to the training data.\n",
    "- Evaluate the performance of the decision tree classifier on the testing data using accuracy as the evaluation metric.\n",
    "\n",
    "2. K-Nearest Neighbors\n",
    "- Load the Breast Cancer dataset from Scikit-Learn datasets.\n",
    "- Split the dataset into training and testing sets.\n",
    "- Implement a K-Nearest Neighbors classifier with k=5 and fit it to the training data.\n",
    "- Evaluate the performance of the K-Nearest Neighbors classifier on the testing data using precision, recall, and F1-score as the evaluation metrics.\n",
    "\n",
    "3. Linear Regression\n",
    "- Load the California Housing dataset from Scikit-Learn datasets.\n",
    "- Split the dataset into training and testing sets.\n",
    "- Implement a linear regression model and fit it to the training data.\n",
    "- Evaluate the performance of the linear regression model on the testing data using mean squared error as the evaluation metric.\n",
    "\n",
    "4. Naive Bayes\n",
    "- Load the SMS Spam Collection dataset from Scikit-Learn datasets.\n",
    "- Split the dataset into training and testing sets.\n",
    "- Implement a Naive Bayes classifier and fit it to the training data.\n",
    "- Evaluate the performance of the Naive Bayes classifier on the testing data using accuracy, precision, recall, and F1-score as the evaluation metrics.\n",
    "\n",
    "### Deliverable:\n",
    "Modify this notebook to include the python code as well as any documentation related to your submission.  Submit the notebook as your response in Blackboard.\n",
    "\n",
    "### Grading Criteria:\n",
    "\n",
    "Your lab assignment will be graded based on the following criteria:\n",
    "\n",
    "- Correctness of the implementation\n",
    "- Proper use of basic control structures and functions\n",
    "- Code efficiency\n",
    "- Clarity and readability of the code\n",
    "- Compliance with the instructions and deliverables.\n",
    "\n",
    "### Student Submission\n",
    "1. Decision Trees\n",
    "- Load the Iris dataset from Scikit-Learn datasets.\n",
    "- Split the dataset into training and testing sets.\n",
    "- Implement a decision tree classifier with a maximum depth of 2 and fit it to the training data.\n",
    "- Evaluate the performance of the decision tree classifier on the testing data using accuracy as the evaluation metric."
   ]
  },
  {
   "cell_type": "code",
   "execution_count": null,
   "metadata": {},
   "outputs": [
    {
     "name": "stdout",
     "output_type": "stream",
     "text": [
      "Accuracy: 0.98\n"
     ]
    }
   ],
   "source": [
    "from sklearn.datasets import load_iris\n",
    "from sklearn.model_selection import train_test_split\n",
    "from sklearn.tree import DecisionTreeClassifier\n",
    "from sklearn.metrics import accuracy_score\n",
    "\n",
    "# Load the Iris dataset\n",
    "iris = load_iris()\n",
    "\n",
    "# Split the dataset into training and testing sets\n",
    "X_train, X_test, y_train, y_test = train_test_split(iris.data, iris.target, test_size=0.3, random_state=42)\n",
    "\n",
    "# Implement a decision tree classifier with a maximum depth of 2 and fit it to the training data\n",
    "dt = DecisionTreeClassifier(max_depth=2, random_state=42)\n",
    "dt.fit(X_train, y_train)\n",
    "\n",
    "# Evaluate the performance of the decision tree classifier on the testing data using accuracy as the evaluation metrics\n",
    "y_pred = dt.predict(X_test)\n",
    "acc = accuracy_score(y_test, y_pred)\n",
    "print(\"Accuracy: {:.2f}\".format(acc))"
   ]
  },
  {
   "attachments": {},
   "cell_type": "markdown",
   "metadata": {},
   "source": [
    "2. K-Nearest Neighbors\n",
    "- Load the Breast Cancer dataset from Scikit-Learn datasets.\n",
    "- Split the dataset into training and testing sets.\n",
    "- Implement a K-Nearest Neighbors classifier with k=5 and fit it to the training data.\n",
    "- Evaluate the performance of the K-Nearest Neighbors classifier on the testing data using precision, recall, and F1-score as the evaluation metrics.\n"
   ]
  },
  {
   "cell_type": "code",
   "execution_count": 3,
   "metadata": {},
   "outputs": [
    {
     "name": "stdout",
     "output_type": "stream",
     "text": [
      "Precision: 0.96\n",
      "Recall: 0.96\n",
      "F1-score: 0.96\n"
     ]
    }
   ],
   "source": [
    "from sklearn.datasets import load_breast_cancer\n",
    "from sklearn.model_selection import train_test_split\n",
    "from sklearn.neighbors import KNeighborsClassifier\n",
    "from sklearn.metrics import precision_score, recall_score, f1_score\n",
    "\n",
    "# Load the Breast Cancer dataset\n",
    "breast_cancer = load_breast_cancer()\n",
    "\n",
    "# Split the dataset into training and testing sets\n",
    "X_train, X_test, y_train, y_test = train_test_split(breast_cancer.data, breast_cancer.target, test_size=0.3, random_state=42)\n",
    "\n",
    "# Implement a K-Nearest Neighbors classifier with k=5 and fit it to the training data\n",
    "knn = KNeighborsClassifier(n_neighbors=5)\n",
    "knn.fit(X_train, y_train)\n",
    "\n",
    "# Evaluate the performance of the K-Nearest Neighbors classifier on the testing data using precision, recall, and F1-score as the evaluation metrics\n",
    "y_pred = knn.predict(X_test)\n",
    "prec = precision_score(y_test, y_pred, average='weighted')\n",
    "rec = recall_score(y_test, y_pred, average='weighted')\n",
    "f1 = f1_score(y_test, y_pred, average='weighted')\n",
    "print(\"Precision: {:.2f}\".format(prec))\n",
    "print(\"Recall: {:.2f}\".format(rec))\n",
    "print(\"F1-score: {:.2f}\".format(f1))"
   ]
  },
  {
   "attachments": {},
   "cell_type": "markdown",
   "metadata": {},
   "source": [
    "3. Linear Regression\n",
    "- Load the California Housing dataset from Scikit-Learn datasets.\n",
    "- Split the dataset into training and testing sets.\n",
    "- Implement a linear regression model and fit it to the training data.\n",
    "- Evaluate the performance of the linear regression model on the testing data using mean squared error as the evaluation metric."
   ]
  },
  {
   "cell_type": "code",
   "execution_count": 4,
   "metadata": {},
   "outputs": [
    {
     "name": "stdout",
     "output_type": "stream",
     "text": [
      "Mean squared error: 0.53\n"
     ]
    }
   ],
   "source": [
    "from sklearn.datasets import fetch_california_housing\n",
    "from sklearn.model_selection import train_test_split\n",
    "from sklearn.linear_model import LinearRegression\n",
    "from sklearn.metrics import mean_squared_error\n",
    "\n",
    "# Load the California Housing dataset\n",
    "california_housing = fetch_california_housing()\n",
    "\n",
    "# Split the dataset into training and testing sets\n",
    "X_train, X_test, y_train, y_test = train_test_split(california_housing.data, california_housing.target, test_size=0.3, random_state=42)\n",
    "\n",
    "# Implement a linear regression model and fit it to the training data\n",
    "lr = LinearRegression()\n",
    "lr.fit(X_train, y_train)\n",
    "\n",
    "# Evaluate the performance of the linear regression model on the testing data using mean squared error as the evaluation metric\n",
    "y_pred = lr.predict(X_test)\n",
    "mse = mean_squared_error(y_test, y_pred)\n",
    "print(\"Mean squared error: {:.2f}\".format(mse))"
   ]
  },
  {
   "attachments": {},
   "cell_type": "markdown",
   "metadata": {},
   "source": [
    "4. Naive Bayes\n",
    "- Load the SMS Spam Collection dataset from Scikit-Learn datasets.\n",
    "- Split the dataset into training and testing sets.\n",
    "- Implement a Naive Bayes classifier and fit it to the training data.\n",
    "- Evaluate the performance of the Naive Bayes classifier on the testing data using accuracy, precision, recall, and F1-score as the evaluation metrics."
   ]
  },
  {
   "cell_type": "code",
   "execution_count": null,
   "metadata": {},
   "outputs": [
    {
     "name": "stdout",
     "output_type": "stream",
     "text": [
      "Accuracy: 0.91\n",
      "Precision: 0.91\n",
      "Recall: 0.91\n",
      "F1-score: 0.91\n"
     ]
    }
   ],
   "source": [
    "#import pandas as pd\n",
    "from sklearn.datasets import fetch_20newsgroups\n",
    "from sklearn.feature_extraction.text import CountVectorizer\n",
    "from sklearn.model_selection import train_test_split\n",
    "from sklearn.naive_bayes import MultinomialNB\n",
    "from sklearn.metrics import accuracy_score, precision_score, recall_score, f1_score\n",
    "\n",
    "# Load the SMS Spam Collection dataset\n",
    "sms = fetch_20newsgroups(subset='all', categories=['alt.atheism', 'talk.religion.misc'])\n",
    "\n",
    "# Convert text data to numerical feature vectors using CountVectorizer\n",
    "vectorizer = CountVectorizer()\n",
    "X = vectorizer.fit_transform(sms.data)\n",
    "y = (sms.target != 0).astype(int)\n",
    "\n",
    "# Split the dataset into training and testing sets\n",
    "X_train, X_test, y_train, y_test = train_test_split(X, y, test_size=0.3, random_state=42)\n",
    "\n",
    "# Implement a Naive Bayes classifier and fit it to the training data\n",
    "nb = MultinomialNB()\n",
    "nb.fit(X_train, y_train)\n",
    "\n",
    "# Evaluate the performance of the Naive Bayes classifier on the testing data using accuracy, precision, recall, and F1-score as the evaluation metrics\n",
    "y_pred = nb.predict(X_test)\n",
    "acc = accuracy_score(y_test, y_pred)\n",
    "prec = precision_score(y_test, y_pred, average='weighted')\n",
    "rec = recall_score(y_test, y_pred, average='weighted')\n",
    "f1 = f1_score(y_test, y_pred, average='weighted')\n",
    "print(\"Accuracy: {:.2f}\".format(acc))\n",
    "print(\"Precision: {:.2f}\".format(prec))\n",
    "print(\"Recall: {:.2f}\".format(rec))\n",
    "print(\"F1-score: {:.2f}\".format(f1))"
   ]
  }
 ],
 "metadata": {
  "kernelspec": {
   "display_name": ".venv",
   "language": "python",
   "name": "python3"
  },
  "language_info": {
   "codemirror_mode": {
    "name": "ipython",
    "version": 3
   },
   "file_extension": ".py",
   "mimetype": "text/x-python",
   "name": "python",
   "nbconvert_exporter": "python",
   "pygments_lexer": "ipython3",
   "version": "3.11.5"
  },
  "orig_nbformat": 4
 },
 "nbformat": 4,
 "nbformat_minor": 2
}
