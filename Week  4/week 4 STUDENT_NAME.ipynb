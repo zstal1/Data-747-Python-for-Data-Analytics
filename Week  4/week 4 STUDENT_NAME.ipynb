{
 "cells": [
  {
   "attachments": {},
   "cell_type": "markdown",
   "metadata": {},
   "source": [
    "## Lab Assignment: Introduction to Pandas\n",
    "Student:     Zachary Stallard\n",
    "\n",
    "### Objective: To introduce data manipulation and analysis in Python using Pandas and understand Pandas data structures and basic operations.\n",
    "\n",
    "### Instructions:\n",
    "In this lab assignment, you will be introduced to data manipulation and analysis in Python using Pandas. You will learn how to create and manipulate Pandas data structures, perform basic data analysis and cleaning operations, and apply built-in functions to analyze and transform the data.\n",
    "\n",
    "You will be provided with the following five problems to solve. Please read the problem statement carefully and implement the solution using Pandas.\n",
    "\n",
    "1. Read a CSV file into a Pandas DataFrame.\n",
    "2. Display the first 5 rows of a Pandas DataFrame.\n",
    "3. Display the last 5 rows of a Pandas DataFrame.\n",
    "4. Create a new column in a Pandas DataFrame by combining two existing columns.\n",
    "5. Group a Pandas DataFrame by a specific column and calculate the mean of another column for each group.\n",
    "\n",
    "### Deliverable:\n",
    "Modify this notebook to include the python code as well as any documentation related to your submission.  Submit the notebook as your response in Blackboard.\n",
    "\n",
    "### Grading Criteria:\n",
    "\n",
    "Your lab assignment will be graded based on the following criteria:\n",
    "\n",
    "- Correctness of the implementation\n",
    "- Proper use of basic control structures and functions\n",
    "- Code efficiency\n",
    "- Clarity and readability of the code\n",
    "- Compliance with the instructions and deliverables.\n",
    "\n",
    "### Student Submission\n",
    "1.  Read a CSV file into a Pandas DataFrame."
   ]
  },
  {
   "cell_type": "code",
   "execution_count": 11,
   "metadata": {},
   "outputs": [],
   "source": [
    "\n",
    "import pandas as pd\n",
    "\n",
    "df = pd.read_csv('C:\\\\Users\\\\zpoke\\OneDrive - email.davenport.edu\\\\Fall 2025\\\\DATA 747 - Python for Data Analytics\\\\Week 4\\\\data.csv')"
   ]
  },
  {
   "attachments": {},
   "cell_type": "markdown",
   "metadata": {},
   "source": [
    "2.  Display the first 5 rows of a Pandas DataFrame."
   ]
  },
  {
   "cell_type": "code",
   "execution_count": null,
   "metadata": {},
   "outputs": [
    {
     "name": "stdout",
     "output_type": "stream",
     "text": [
      "First 5 rows of the DataFrame:\n",
      "   Transaction_ID Product_Name     Category  Quantity  Price\n",
      "0               1       Laptop  Electronics         1   1200\n",
      "1               2        Mouse  Electronics         2     25\n",
      "2               3         Book   Stationery         5     15\n",
      "3               4     Keyboard  Electronics         1     75\n",
      "4               5          Pen   Stationery        10      2\n"
     ]
    }
   ],
   "source": [
    "import pandas as pd\n",
    "\n",
    "df = pd.read_csv('C:\\\\Users\\\\zpoke\\OneDrive - email.davenport.edu\\\\Fall 2025\\\\DATA 747 - Python for Data Analytics\\\\Week 4\\\\data.csv')\n",
    "\n",
    "print(\"First 5 rows of the DataFrame:\")\n",
    "print(df.head())"
   ]
  },
  {
   "attachments": {},
   "cell_type": "markdown",
   "metadata": {},
   "source": [
    "3.  Display the last 5 rows of a Pandas DataFrame."
   ]
  },
  {
   "cell_type": "code",
   "execution_count": null,
   "metadata": {},
   "outputs": [
    {
     "name": "stdout",
     "output_type": "stream",
     "text": [
      "Last 5 rows of the DataFrame:\n",
      "   Transaction_ID Product_Name     Category  Quantity  Price\n",
      "5               6      Monitor  Electronics         2    300\n",
      "6               7     Notebook   Stationery         3      5\n",
      "7               8   Headphones  Electronics         1    150\n",
      "8               9      Stapler   Stationery         1      8\n",
      "9              10       Webcam  Electronics         1     60\n"
     ]
    }
   ],
   "source": [
    "import pandas as pd\n",
    "\n",
    "df = pd.read_csv('C:\\\\Users\\\\zpoke\\OneDrive - email.davenport.edu\\\\Fall 2025\\\\DATA 747 - Python for Data Analytics\\\\Week 4\\\\data.csv')\n",
    "\n",
    "print(\"Last 5 rows of the DataFrame:\")\n",
    "print(df.tail())"
   ]
  },
  {
   "attachments": {},
   "cell_type": "markdown",
   "metadata": {},
   "source": [
    "4.  Create a new column in a Pandas DataFrame by combining two existing columns."
   ]
  },
  {
   "cell_type": "code",
   "execution_count": 17,
   "metadata": {},
   "outputs": [
    {
     "name": "stdout",
     "output_type": "stream",
     "text": [
      "DataFrame with New Combined Column:\n",
      "   Transaction_ID Product_Name     Category  Quantity  Price  \\\n",
      "0               1       Laptop  Electronics         1   1200   \n",
      "1               2        Mouse  Electronics         2     25   \n",
      "2               3         Book   Stationery         5     15   \n",
      "3               4     Keyboard  Electronics         1     75   \n",
      "4               5          Pen   Stationery        10      2   \n",
      "\n",
      "      Product_Description  \n",
      "0    Electronics - Laptop  \n",
      "1     Electronics - Mouse  \n",
      "2       Stationery - Book  \n",
      "3  Electronics - Keyboard  \n",
      "4        Stationery - Pen  \n"
     ]
    }
   ],
   "source": [
    "import pandas as pd\n",
    "\n",
    "df = pd.read_csv('C:\\\\Users\\\\zpoke\\OneDrive - email.davenport.edu\\\\Fall 2025\\\\DATA 747 - Python for Data Analytics\\\\Week 4\\\\data1.csv')\n",
    "\n",
    "df['Product_Description'] = df['Category'] + ' - ' + df['Product_Name']\n",
    "\n",
    "print(\"DataFrame with New Combined Column:\")\n",
    "print(df.head())"
   ]
  },
  {
   "attachments": {},
   "cell_type": "markdown",
   "metadata": {},
   "source": [
    "5.  Group a Pandas DataFrame by a specific column and calculate the mean of another column for each group."
   ]
  },
  {
   "cell_type": "code",
   "execution_count": 16,
   "metadata": {},
   "outputs": [
    {
     "name": "stdout",
     "output_type": "stream",
     "text": [
      "Mean Unit Price by Category:\n",
      "Category\n",
      "Electronics    301.666667\n",
      "Stationery       7.500000\n",
      "Name: Price, dtype: float64\n"
     ]
    }
   ],
   "source": [
    "import pandas as pd\n",
    "\n",
    "df = pd.read_csv('C:\\\\Users\\\\zpoke\\OneDrive - email.davenport.edu\\\\Fall 2025\\\\DATA 747 - Python for Data Analytics\\\\Week 4\\\\data.csv')\n",
    "\n",
    "mean_price_by_category = df.groupby('Category')['Price'].mean()\n",
    "print(\"Mean Unit Price by Category:\")\n",
    "print(mean_price_by_category)"
   ]
  }
 ],
 "metadata": {
  "kernelspec": {
   "display_name": ".venv",
   "language": "python",
   "name": "python3"
  },
  "language_info": {
   "codemirror_mode": {
    "name": "ipython",
    "version": 3
   },
   "file_extension": ".py",
   "mimetype": "text/x-python",
   "name": "python",
   "nbconvert_exporter": "python",
   "pygments_lexer": "ipython3",
   "version": "3.11.5"
  },
  "orig_nbformat": 4
 },
 "nbformat": 4,
 "nbformat_minor": 2
}
