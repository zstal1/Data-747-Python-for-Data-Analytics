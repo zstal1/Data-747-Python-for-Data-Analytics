{
 "cells": [
  {
   "attachments": {},
   "cell_type": "markdown",
   "metadata": {},
   "source": [
    "## Lab Assignment: Advanced Data Visualization with Seaborn, Plotly, and MatPlotLib\n",
    "Student:     Zachary Stallard\n",
    "\n",
    "### Objective: To apply knowledge of more advanced data visualizations using some of the additional standard Python libraries.\n",
    "\n",
    "### Instructions:\n",
    "In this lab assignment, you will be given the following eight problems to solve. Each problem requires you to implement a solution using one of the named visualization libraries in Python. Read the problem statement carefully and make sure you understand the requirements before starting to code.\n",
    "1. Load the dataset titanic.csv using Pandas\n",
    "2. Create a bar plot using Seaborn to visualize the count of passengers in each passenger class (Pclass) in the Titanic dataset. Label the x-axis, y-axis, and add a title to the plot.\n",
    "3. Use Plotly to create an interactive scatter plot to visualize the relationship between the age and fare paid by passengers in the Titanic dataset. Include tooltips that display additional information about each data point when hovering over them.\n",
    "4. Create a histogram using Matplotlib to visualize the distribution of passenger ages in the Titanic dataset. Customize the bin size, color, and transparency of the bars.\n",
    "5. Use Seaborn to create a box plot to compare the fare distribution across different passenger classes (Pclass) in the Titanic dataset. Add labels to the x-axis and y-axis, and include a legend to indicate the passenger classes.\n",
    "6. Create a line plot using Plotly to display the survival rate of passengers based on their age in the Titanic dataset. Group the data by age range and calculate the survival rate for each group. Add a title and axis labels to the plot.\n",
    "7. Use Matplotlib to create a stacked bar plot to visualize the survival count of passengers in different passenger classes (Pclass) and embarkation ports (Embarked) in the Titanic dataset. Customize the colors, add a legend, and include a title for the plot.\n",
    "8. Create a heat map using Seaborn to visualize the correlation matrix of numerical variables in the Titanic dataset, such as age, fare, and number of siblings/spouses aboard (SibSp). Customize the color palette and add annotations to the cells to display the correlation values.\n",
    "\n",
    "### Deliverable:\n",
    "Modify this notebook to include the python code as well as any documentation related to your submission.  Submit the notebook as your response in Blackboard.\n",
    "\n",
    "### Grading Criteria:\n",
    "\n",
    "Your lab assignment will be graded based on the following criteria:\n",
    "\n",
    "- Correctness of the implementation\n",
    "- Proper use of basic control structures and functions\n",
    "- Code efficiency\n",
    "- Clarity and readability of the code\n",
    "- Compliance with the instructions and deliverables.\n",
    "\n",
    "### Student Submission"
   ]
  },
  {
   "cell_type": "markdown",
   "metadata": {},
   "source": [
    "1. Load the dataset titanic.csv using Pandas"
   ]
  },
  {
   "cell_type": "code",
   "execution_count": 2,
   "metadata": {},
   "outputs": [],
   "source": [
    "import pandas as pd\n",
    "import seaborn as sns\n",
    "import matplotlib.pyplot as plt\n",
    "\n",
    "# Load the Titanic dataset from Seaborn\n",
    "titanic = sns.load_dataset('titanic')\n",
    "df = pd.DataFrame(titanic)"
   ]
  },
  {
   "cell_type": "markdown",
   "metadata": {},
   "source": [
    "2. Create a bar plot using Seaborn to visualize the count of passengers in each passenger class (Pclass) in the Titanic dataset. Label the x-axis, y-axis, and add a title to the plot."
   ]
  },
  {
   "cell_type": "code",
   "execution_count": 4,
   "metadata": {},
   "outputs": [
    {
     "data": {
      "text/plain": [
       "Text(0.5, 1.0, 'Count of Passengers in each Class')"
      ]
     },
     "execution_count": 4,
     "metadata": {},
     "output_type": "execute_result"
    },
    {
     "data": {
      "image/png": "[encoded data removed]",
      "text/plain": [
       "<Figure size 640x480 with 1 Axes>"
      ]
     },
     "metadata": {},
     "output_type": "display_data"
    }
   ],
   "source": [
    "# Create bar plot\n",
    "sns.countplot(data=df, x=\"class\")\n",
    "plt.xlabel('Class')\n",
    "plt.ylabel('Count')\n",
    "plt.title('Count of Passengers in each Class')"
   ]
  },
  {
   "cell_type": "markdown",
   "metadata": {},
   "source": [
    "3. Use Plotly to create an interactive scatter plot to visualize the relationship between the age and fare paid by passengers in the Titanic dataset. Include tooltips that display additional information about each data point when hovering over them."
   ]
  },
  {
   "cell_type": "code",
   "execution_count": 5,
   "metadata": {},
   "outputs": [
    {
     "data": {
      "application/vnd.plotly.v1+json": {
       "config": {
        "plotlyServerURL": "https://plot.ly"
       },
       "data": [
        {
         "customdata": [
          [
           0,
           "man"
          ],
          [
           1,
           "woman"
          ],
          [
           0,
           "man"
          ],
          [
           0,
           "man"
          ],
          [
           0,
           "child"
          ],
          [
           1,
           "woman"
          ],
          [
           1,
           "child"
          ],
          [
           0,
           "man"
          ],
          [
           0,
           "man"
          ],
          [
           0,
           "child"
          ],
          [
           0,
           "child"
          ],
          [
           0,
           "woman"
          ],
          [
           1,
           "woman"
          ],
          [
           1,
           "child"
          ],
          [
           0,
           "child"
          ],
          [
           1,
           "woman"
          ],
          [
           0,
           "man"
          ],
          [
           1,
           "woman"
          ],
          [
           0,
           "man"
          ],
          [
           1,
           "woman"
          ],
          [
           1,
           "man"
          ],
          [
           0,
           "man"
          ],
          [
           0,
           "woman"
          ],
          [
           1,
           "child"
          ],
          [
           0,
           "woman"
          ],
          [
           0,
           "man"
          ],
          [
           1,
           "woman"
          ],
          [
           0,
           "man"
          ],
          [
           0,
           "man"
          ],
          [
           1,
           "woman"
          ],
          [
           0,
           "man"
          ],
          [
           0,
           "woman"
          ],
          [
           0,
           "child"
          ],
          [
           0,
           "man"
          ],
          [
           0,
           "man"
          ],
          [
           0,
           "child"
          ],
          [
           0,
           "man"
          ],
          [
           0,
           "child"
          ],
          [
           1,
           "man"
          ],
          [
           0,
           "man"
          ],
          [
           1,
           "woman"
          ],
          [
           0,
           "man"
          ],
          [
           0,
           "woman"
          ],
          [
           0,
           "man"
          ],
          [
           1,
           "man"
          ],
          [
           0,
           "man"
          ],
          [
           0,
           "man"
          ],
          [
           0,
           "man"
          ],
          [
           1,
           "woman"
          ],
          [
           0,
           "man"
          ],
          [
           1,
           "man"
          ],
          [
           1,
           "woman"
          ],
          [
           1,
           "woman"
          ],
          [
           0,
           "man"
          ],
          [
           0,
           "man"
          ],
          [
           0,
           "man"
          ],
          [
           0,
           "man"
          ],
          [
           0,
           "man"
          ],
          [
           0,
           "man"
          ],
          [
           0,
           "man"
          ],
          [
           0,
           "man"
          ],
          [
           0,
           "woman"
          ],
          [
           0,
           "man"
          ],
          [
           0,
           "man"
          ],
          [
           0,
           "man"
          ],
          [
           0,
           "man"
          ],
          [
           1,
           "woman"
          ],
          [
           1,
           "man"
          ],
          [
           0,
           "man"
          ],
          [
           1,
           "woman"
          ],
          [
           0,
           "child"
          ],
          [
           0,
           "man"
          ],
          [
           0,
           "woman"
          ],
          [
           0,
           "woman"
          ],
          [
           0,
           "man"
          ],
          [
           0,
           "man"
          ],
          [
           0,
           "child"
          ],
          [
           0,
           "man"
          ],
          [
           1,
           "child"
          ],
          [
           0,
           "man"
          ],
          [
           1,
           "man"
          ],
          [
           1,
           "woman"
          ],
          [
           0,
           "man"
          ],
          [
           0,
           "man"
          ],
          [
           0,
           "man"
          ],
          [
           0,
           "woman"
          ],
          [
           0,
           "man"
          ],
          [
           0,
           "woman"
          ],
          [
           1,
           "woman"
          ],
          [
           1,
           "woman"
          ],
          [
           0,
           "man"
          ],
          [
           1,
           "man"
          ],
          [
           0,
           "child"
          ],
          [
           0,
           "man"
          ],
          [
           0,
           "man"
          ],
          [
           0,
           "man"
          ],
          [
           1,
           "woman"
          ],
          [
           0,
           "man"
          ],
          [
           0,
           "man"
          ],
          [
           0,
           "man"
          ],
          [
           0,
           "man"
          ],
          [
           0,
           "man"
          ],
          [
           0,
           "man"
          ],
          [
           0,
           "child"
          ],
          [
           1,
           "child"
          ],
          [
           0,
           "woman"
          ],
          [
           0,
           "man"
          ],
          [
           0,
           "child"
          ],
          [
           1,
           "child"
          ],
          [
           0,
           "man"
          ],
          [
           0,
           "man"
          ],
          [
           0,
           "man"
          ],
          [
           0,
           "man"
          ],
          [
           0,
           "woman"
          ],
          [
           0,
           "child"
          ],
          [
           1,
           "child"
          ],
          [
           1,
           "woman"
          ],
          [
           0,
           "man"
          ],
          [
           0,
           "man"
          ],
          [
           1,
           "woman"
          ],
          [
           0,
           "man"
          ],
          [
           0,
           "man"
          ],
          [
           1,
           "woman"
          ],
          [
           0,
           "man"
          ],
          [
           0,
           "man"
          ],
          [
           0,
           "man"
          ],
          [
           0,
           "man"
          ],
          [
           1,
           "man"
          ],
          [
           0,
           "child"
          ],
          [
           0,
           "man"
          ],
          [
           1,
           "man"
          ],
          [
           1,
           "woman"
          ],
          [
           0,
           "man"
          ],
          [
           0,
           "man"
          ],
          [
           0,
           "man"
          ],
          [
           1,
           "woman"
          ],
          [
           1,
           "man"
          ],
          [
           0,
           "man"
          ],
          [
           0,
           "man"
          ],
          [
           0,
           "man"
          ],
          [
           0,
           "man"
          ],
          [
           0,
           "woman"
          ],
          [
           0,
           "man"
          ],
          [
           1,
           "child"
          ],
          [
           0,
           "woman"
          ],
          [
           0,
           "woman"
          ],
          [
           1,
           "woman"
          ],
          [
           0,
           "man"
          ],
          [
           0,
           "man"
          ],
          [
           0,
           "woman"
          ],
          [
           0,
           "man"
          ],
          [
           0,
           "woman"
          ],
          [
           0,
           "man"
          ],
          [
           0,
           "woman"
          ],
          [
           1,
           "woman"
          ],
          [
           0,
           "man"
          ],
          [
           1,
           "child"
          ],
          [
           0,
           "woman"
          ],
          [
           0,
           "man"
          ],
          [
           1,
           "man"
          ],
          [
           1,
           "man"
          ],
          [
           1,
           "woman"
          ],
          [
           0,
           "woman"
          ],
          [
           0,
           "child"
          ],
          [
           1,
           "woman"
          ],
          [
           0,
           "man"
          ],
          [
           0,
           "man"
          ],
          [
           0,
           "man"
          ],
          [
           1,
           "man"
          ],
          [
           0,
           "man"
          ],
          [
           1,
           "man"
          ],
          [
           0,
           "man"
          ],
          [
           1,
           "woman"
          ],
          [
           0,
           "woman"
          ],
          [
           0,
           "man"
          ],
          [
           0,
           "man"
          ],
          [
           1,
           "woman"
          ],
          [
           1,
           "man"
          ],
          [
           0,
           "man"
          ],
          [
           0,
           "man"
          ],
          [
           0,
           "man"
          ],
          [
           1,
           "woman"
          ],
          [
           0,
           "man"
          ],
          [
           0,
           "man"
          ],
          [
           0,
           "man"
          ],
          [
           0,
           "man"
          ],
          [
           1,
           "woman"
          ],
          [
           1,
           "woman"
          ],
          [
           0,
           "man"
          ],
          [
           0,
           "man"
          ],
          [
           1,
           "man"
          ],
          [
           1,
           "woman"
          ],
          [
           1,
           "child"
          ],
          [
           0,
           "man"
          ],
          [
           0,
           "man"
          ],
          [
           0,
           "child"
          ],
          [
           0,
           "man"
          ],
          [
           0,
           "man"
          ],
          [
           0,
           "man"
          ],
          [
           1,
           "woman"
          ],
          [
           1,
           "woman"
          ],
          [
           0,
           "man"
          ],
          [
           0,
           "woman"
          ],
          [
           0,
           "man"
          ],
          [
           0,
           "man"
          ],
          [
           0,
           "man"
          ],
          [
           1,
           "woman"
          ],
          [
           1,
           "woman"
          ],
          [
           0,
           "man"
          ],
          [
           0,
           "man"
          ],
          [
           0,
           "child"
          ],
          [
           1,
           "woman"
          ],
          [
           0,
           "man"
          ],
          [
           0,
           "man"
          ],
          [
           1,
           "child"
          ],
          [
           0,
           "man"
          ],
          [
           0,
           "man"
          ],
          [
           0,
           "child"
          ],
          [
           0,
           "man"
          ],
          [
           1,
           "man"
          ],
          [
           0,
           "man"
          ],
          [
           1,
           "woman"
          ],
          [
           0,
           "man"
          ],
          [
           0,
           "woman"
          ],
          [
           1,
           "man"
          ],
          [
           0,
           "man"
          ],
          [
           0,
           "woman"
          ],
          [
           0,
           "man"
          ],
          [
           0,
           "woman"
          ],
          [
           0,
           "man"
          ],
          [
           0,
           "man"
          ],
          [
           0,
           "woman"
          ],
          [
           0,
           "man"
          ],
          [
           0,
           "man"
          ],
          [
           1,
           "man"
          ],
          [
           0,
           "woman"
          ],
          [
           0,
           "child"
          ],
          [
           0,
           "man"
          ],
          [
           0,
           "man"
          ],
          [
           0,
           "man"
          ],
          [
           0,
           "woman"
          ],
          [
           0,
           "man"
          ],
          [
           0,
           "man"
          ],
          [
           0,
           "man"
          ],
          [
           1,
           "man"
          ],
          [
           1,
           "woman"
          ],
          [
           0,
           "man"
          ],
          [
           0,
           "woman"
          ],
          [
           0,
           "man"
          ],
          [
           0,
           "man"
          ],
          [
           1,
           "man"
          ],
          [
           1,
           "child"
          ],
          [
           0,
           "man"
          ],
          [
           0,
           "man"
          ],
          [
           1,
           "man"
          ],
          [
           0,
           "man"
          ],
          [
           0,
           "man"
          ],
          [
           0,
           "man"
          ],
          [
           0,
           "man"
          ],
          [
           0,
           "man"
          ],
          [
           1,
           "child"
          ],
          [
           0,
           "man"
          ],
          [
           0,
           "man"
          ],
          [
           0,
           "woman"
          ],
          [
           0,
           "man"
          ],
          [
           0,
           "man"
          ],
          [
           1,
           "child"
          ],
          [
           0,
           "child"
          ],
          [
           0,
           "man"
          ],
          [
           1,
           "woman"
          ],
          [
           0,
           "woman"
          ],
          [
           0,
           "man"
          ],
          [
           1,
           "child"
          ],
          [
           0,
           "man"
          ],
          [
           0,
           "man"
          ],
          [
           0,
           "man"
          ],
          [
           0,
           "man"
          ],
          [
           0,
           "man"
          ],
          [
           0,
           "man"
          ],
          [
           0,
           "man"
          ],
          [
           0,
           "woman"
          ],
          [
           0,
           "woman"
          ],
          [
           0,
           "woman"
          ],
          [
           0,
           "man"
          ],
          [
           1,
           "man"
          ],
          [
           1,
           "man"
          ],
          [
           0,
           "man"
          ],
          [
           0,
           "man"
          ],
          [
           0,
           "man"
          ],
          [
           0,
           "man"
          ],
          [
           0,
           "man"
          ],
          [
           0,
           "man"
          ],
          [
           0,
           "man"
          ],
          [
           0,
           "man"
          ],
          [
           0,
           "man"
          ],
          [
           0,
           "man"
          ],
          [
           0,
           "man"
          ],
          [
           1,
           "woman"
          ],
          [
           0,
           "woman"
          ],
          [
           0,
           "man"
          ],
          [
           0,
           "child"
          ],
          [
           0,
           "child"
          ],
          [
           0,
           "man"
          ],
          [
           0,
           "man"
          ],
          [
           1,
           "man"
          ],
          [
           1,
           "woman"
          ],
          [
           1,
           "woman"
          ],
          [
           0,
           "man"
          ],
          [
           0,
           "man"
          ],
          [
           0,
           "man"
          ],
          [
           0,
           "woman"
          ],
          [
           0,
           "man"
          ],
          [
           0,
           "man"
          ],
          [
           0,
           "woman"
          ],
          [
           0,
           "man"
          ],
          [
           1,
           "man"
          ],
          [
           1,
           "woman"
          ],
          [
           0,
           "man"
          ],
          [
           0,
           "man"
          ],
          [
           0,
           "woman"
          ],
          [
           1,
           "man"
          ],
          [
           0,
           "man"
          ],
          [
           0,
           "man"
          ],
          [
           0,
           "man"
          ],
          [
           0,
           "man"
          ],
          [
           0,
           "man"
          ],
          [
           0,
           "woman"
          ],
          [
           0,
           "man"
          ],
          [
           0,
           "man"
          ],
          [
           0,
           "man"
          ],
          [
           0,
           "man"
          ],
          [
           0,
           "man"
          ],
          [
           0,
           "man"
          ],
          [
           0,
           "man"
          ],
          [
           0,
           "woman"
          ],
          [
           0,
           "man"
          ],
          [
           1,
           "woman"
          ],
          [
           0,
           "man"
          ],
          [
           0,
           "man"
          ],
          [
           0,
           "man"
          ],
          [
           0,
           "woman"
          ],
          [
           0,
           "man"
          ],
          [
           1,
           "man"
          ],
          [
           0,
           "man"
          ],
          [
           0,
           "man"
          ],
          [
           0,
           "man"
          ],
          [
           0,
           "man"
          ],
          [
           0,
           "man"
          ],
          [
           0,
           "child"
          ],
          [
           0,
           "man"
          ],
          [
           0,
           "woman"
          ],
          [
           0,
           "man"
          ],
          [
           0,
           "man"
          ],
          [
           0,
           "child"
          ],
          [
           1,
           "man"
          ],
          [
           1,
           "child"
          ],
          [
           0,
           "man"
          ],
          [
           0,
           "man"
          ],
          [
           1,
           "woman"
          ],
          [
           0,
           "man"
          ],
          [
           0,
           "man"
          ],
          [
           1,
           "woman"
          ],
          [
           0,
           "woman"
          ],
          [
           0,
           "man"
          ],
          [
           0,
           "woman"
          ],
          [
           0,
           "man"
          ],
          [
           0,
           "man"
          ],
          [
           1,
           "man"
          ],
          [
           0,
           "man"
          ],
          [
           0,
           "man"
          ],
          [
           0,
           "man"
          ],
          [
           0,
           "man"
          ],
          [
           1,
           "woman"
          ],
          [
           0,
           "woman"
          ],
          [
           0,
           "woman"
          ],
          [
           0,
           "man"
          ],
          [
           0,
           "child"
          ],
          [
           0,
           "child"
          ],
          [
           0,
           "man"
          ],
          [
           0,
           "man"
          ],
          [
           1,
           "child"
          ],
          [
           1,
           "man"
          ],
          [
           0,
           "man"
          ],
          [
           0,
           "man"
          ],
          [
           1,
           "woman"
          ],
          [
           0,
           "man"
          ],
          [
           0,
           "woman"
          ],
          [
           0,
           "man"
          ],
          [
           0,
           "man"
          ],
          [
           1,
           "man"
          ],
          [
           0,
           "man"
          ],
          [
           0,
           "man"
          ],
          [
           0,
           "man"
          ],
          [
           0,
           "man"
          ],
          [
           0,
           "man"
          ],
          [
           0,
           "man"
          ],
          [
           1,
           "woman"
          ],
          [
           0,
           "woman"
          ],
          [
           0,
           "child"
          ],
          [
           0,
           "man"
          ],
          [
           0,
           "woman"
          ],
          [
           0,
           "man"
          ],
          [
           0,
           "man"
          ],
          [
           0,
           "man"
          ],
          [
           1,
           "man"
          ],
          [
           0,
           "man"
          ],
          [
           0,
           "man"
          ],
          [
           1,
           "child"
          ],
          [
           0,
           "man"
          ],
          [
           0,
           "man"
          ],
          [
           0,
           "man"
          ],
          [
           0,
           "man"
          ],
          [
           0,
           "man"
          ],
          [
           0,
           "man"
          ],
          [
           1,
           "man"
          ],
          [
           0,
           "man"
          ],
          [
           0,
           "woman"
          ],
          [
           0,
           "man"
          ],
          [
           0,
           "man"
          ],
          [
           0,
           "man"
          ],
          [
           0,
           "man"
          ],
          [
           0,
           "man"
          ],
          [
           0,
           "man"
          ],
          [
           0,
           "man"
          ],
          [
           1,
           "child"
          ],
          [
           0,
           "man"
          ],
          [
           1,
           "child"
          ],
          [
           0,
           "man"
          ],
          [
           0,
           "man"
          ],
          [
           0,
           "man"
          ],
          [
           1,
           "woman"
          ],
          [
           0,
           "child"
          ],
          [
           1,
           "child"
          ],
          [
           0,
           "man"
          ],
          [
           0,
           "woman"
          ],
          [
           0,
           "man"
          ],
          [
           1,
           "woman"
          ],
          [
           0,
           "man"
          ],
          [
           0,
           "woman"
          ],
          [
           1,
           "child"
          ],
          [
           1,
           "man"
          ],
          [
           0,
           "man"
          ],
          [
           0,
           "woman"
          ],
          [
           0,
           "man"
          ],
          [
           0,
           "man"
          ],
          [
           0,
           "child"
          ],
          [
           0,
           "man"
          ],
          [
           0,
           "woman"
          ],
          [
           0,
           "man"
          ],
          [
           0,
           "child"
          ],
          [
           1,
           "man"
          ],
          [
           1,
           "woman"
          ],
          [
           0,
           "child"
          ],
          [
           0,
           "man"
          ],
          [
           0,
           "man"
          ],
          [
           1,
           "man"
          ],
          [
           1,
           "child"
          ],
          [
           0,
           "man"
          ],
          [
           0,
           "man"
          ],
          [
           0,
           "man"
          ],
          [
           0,
           "man"
          ],
          [
           0,
           "man"
          ],
          [
           1,
           "man"
          ],
          [
           0,
           "man"
          ],
          [
           0,
           "man"
          ],
          [
           0,
           "man"
          ],
          [
           0,
           "man"
          ],
          [
           0,
           "man"
          ],
          [
           0,
           "man"
          ],
          [
           0,
           "child"
          ],
          [
           0,
           "man"
          ],
          [
           0,
           "child"
          ],
          [
           1,
           "woman"
          ],
          [
           1,
           "woman"
          ],
          [
           0,
           "man"
          ],
          [
           0,
           "man"
          ],
          [
           0,
           "woman"
          ],
          [
           0,
           "man"
          ],
          [
           1,
           "child"
          ],
          [
           0,
           "man"
          ],
          [
           0,
           "man"
          ],
          [
           1,
           "child"
          ],
          [
           0,
           "man"
          ],
          [
           0,
           "man"
          ],
          [
           0,
           "man"
          ],
          [
           0,
           "man"
          ],
          [
           0,
           "woman"
          ],
          [
           0,
           "man"
          ],
          [
           0,
           "woman"
          ],
          [
           0,
           "woman"
          ],
          [
           0,
           "man"
          ]
         ],
         "hovertemplate": "Age: %{x}<br>Fare: %{y}<br>Survived: %{customdata[0]}<br>Who: %{customdata[1]}",
         "legendgroup": "Third",
         "marker": {
          "color": "#636efa",
          "symbol": "circle"
         },
         "mode": "markers",
         "name": "Third",
         "orientation": "v",
         "showlegend": true,
         "type": "scatter",
         "x": {
          "bdata": "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",
          "dtype": "f8"
         },
         "xaxis": "x",
         "y": {
          "bdata": "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",
          "dtype": "f8"
         },
         "yaxis": "y"
        },
        {
         "customdata": [
          [
           1,
           "woman"
          ],
          [
           1,
           "woman"
          ],
          [
           0,
           "man"
          ],
          [
           1,
           "woman"
          ],
          [
           1,
           "man"
          ],
          [
           0,
           "man"
          ],
          [
           0,
           "man"
          ],
          [
           1,
           "woman"
          ],
          [
           0,
           "man"
          ],
          [
           0,
           "man"
          ],
          [
           1,
           "woman"
          ],
          [
           0,
           "man"
          ],
          [
           1,
           "man"
          ],
          [
           1,
           "woman"
          ],
          [
           0,
           "man"
          ],
          [
           0,
           "man"
          ],
          [
           0,
           "man"
          ],
          [
           1,
           "woman"
          ],
          [
           0,
           "man"
          ],
          [
           0,
           "man"
          ],
          [
           1,
           "man"
          ],
          [
           0,
           "man"
          ],
          [
           0,
           "man"
          ],
          [
           0,
           "man"
          ],
          [
           0,
           "man"
          ],
          [
           1,
           "woman"
          ],
          [
           0,
           "man"
          ],
          [
           0,
           "man"
          ],
          [
           1,
           "woman"
          ],
          [
           0,
           "man"
          ],
          [
           1,
           "woman"
          ],
          [
           0,
           "man"
          ],
          [
           0,
           "man"
          ],
          [
           0,
           "man"
          ],
          [
           0,
           "woman"
          ],
          [
           0,
           "man"
          ],
          [
           1,
           "man"
          ],
          [
           1,
           "woman"
          ],
          [
           1,
           "woman"
          ],
          [
           1,
           "man"
          ],
          [
           1,
           "woman"
          ],
          [
           1,
           "woman"
          ],
          [
           1,
           "man"
          ],
          [
           1,
           "woman"
          ],
          [
           0,
           "man"
          ],
          [
           1,
           "man"
          ],
          [
           0,
           "man"
          ],
          [
           1,
           "woman"
          ],
          [
           1,
           "woman"
          ],
          [
           1,
           "woman"
          ],
          [
           0,
           "man"
          ],
          [
           0,
           "man"
          ],
          [
           1,
           "woman"
          ],
          [
           1,
           "woman"
          ],
          [
           0,
           "man"
          ],
          [
           0,
           "man"
          ],
          [
           1,
           "woman"
          ],
          [
           0,
           "man"
          ],
          [
           1,
           "woman"
          ],
          [
           1,
           "woman"
          ],
          [
           0,
           "man"
          ],
          [
           0,
           "child"
          ],
          [
           1,
           "man"
          ],
          [
           1,
           "woman"
          ],
          [
           1,
           "child"
          ],
          [
           1,
           "woman"
          ],
          [
           1,
           "woman"
          ],
          [
           1,
           "woman"
          ],
          [
           1,
           "woman"
          ],
          [
           1,
           "woman"
          ],
          [
           1,
           "woman"
          ],
          [
           1,
           "woman"
          ],
          [
           1,
           "woman"
          ],
          [
           1,
           "woman"
          ],
          [
           0,
           "man"
          ],
          [
           0,
           "man"
          ],
          [
           1,
           "woman"
          ],
          [
           0,
           "man"
          ],
          [
           1,
           "woman"
          ],
          [
           0,
           "man"
          ],
          [
           1,
           "woman"
          ],
          [
           0,
           "man"
          ],
          [
           1,
           "woman"
          ],
          [
           1,
           "woman"
          ],
          [
           1,
           "woman"
          ],
          [
           1,
           "man"
          ],
          [
           0,
           "man"
          ],
          [
           1,
           "woman"
          ],
          [
           0,
           "man"
          ],
          [
           1,
           "woman"
          ],
          [
           1,
           "woman"
          ],
          [
           1,
           "man"
          ],
          [
           1,
           "woman"
          ],
          [
           1,
           "woman"
          ],
          [
           1,
           "man"
          ],
          [
           0,
           "man"
          ],
          [
           1,
           "child"
          ],
          [
           0,
           "man"
          ],
          [
           1,
           "child"
          ],
          [
           1,
           "man"
          ],
          [
           1,
           "man"
          ],
          [
           0,
           "man"
          ],
          [
           1,
           "man"
          ],
          [
           0,
           "man"
          ],
          [
           1,
           "woman"
          ],
          [
           1,
           "man"
          ],
          [
           0,
           "man"
          ],
          [
           0,
           "man"
          ],
          [
           0,
           "man"
          ],
          [
           1,
           "man"
          ],
          [
           1,
           "woman"
          ],
          [
           0,
           "man"
          ],
          [
           0,
           "man"
          ],
          [
           0,
           "man"
          ],
          [
           1,
           "woman"
          ],
          [
           0,
           "woman"
          ],
          [
           1,
           "woman"
          ],
          [
           0,
           "man"
          ],
          [
           1,
           "man"
          ],
          [
           1,
           "man"
          ],
          [
           1,
           "woman"
          ],
          [
           0,
           "man"
          ],
          [
           1,
           "woman"
          ],
          [
           1,
           "woman"
          ],
          [
           0,
           "man"
          ],
          [
           0,
           "man"
          ],
          [
           1,
           "woman"
          ],
          [
           1,
           "woman"
          ],
          [
           1,
           "woman"
          ],
          [
           0,
           "man"
          ],
          [
           0,
           "man"
          ],
          [
           1,
           "man"
          ],
          [
           0,
           "man"
          ],
          [
           1,
           "woman"
          ],
          [
           0,
           "man"
          ],
          [
           1,
           "woman"
          ],
          [
           1,
           "woman"
          ],
          [
           1,
           "man"
          ],
          [
           1,
           "woman"
          ],
          [
           1,
           "woman"
          ],
          [
           0,
           "man"
          ],
          [
           1,
           "woman"
          ],
          [
           1,
           "man"
          ],
          [
           1,
           "woman"
          ],
          [
           1,
           "man"
          ],
          [
           0,
           "man"
          ],
          [
           1,
           "man"
          ],
          [
           1,
           "man"
          ],
          [
           1,
           "woman"
          ],
          [
           1,
           "man"
          ],
          [
           0,
           "man"
          ],
          [
           1,
           "woman"
          ],
          [
           1,
           "man"
          ],
          [
           1,
           "man"
          ],
          [
           0,
           "man"
          ],
          [
           1,
           "woman"
          ],
          [
           1,
           "man"
          ],
          [
           1,
           "man"
          ],
          [
           0,
           "man"
          ],
          [
           1,
           "man"
          ],
          [
           0,
           "man"
          ],
          [
           1,
           "woman"
          ],
          [
           0,
           "man"
          ],
          [
           1,
           "man"
          ],
          [
           1,
           "man"
          ],
          [
           1,
           "child"
          ],
          [
           1,
           "man"
          ],
          [
           0,
           "man"
          ],
          [
           0,
           "man"
          ],
          [
           1,
           "woman"
          ],
          [
           1,
           "man"
          ],
          [
           1,
           "man"
          ],
          [
           1,
           "woman"
          ],
          [
           1,
           "woman"
          ],
          [
           0,
           "man"
          ],
          [
           1,
           "man"
          ],
          [
           1,
           "woman"
          ],
          [
           1,
           "man"
          ],
          [
           1,
           "woman"
          ],
          [
           1,
           "man"
          ],
          [
           1,
           "man"
          ],
          [
           0,
           "man"
          ],
          [
           1,
           "woman"
          ],
          [
           0,
           "man"
          ],
          [
           0,
           "man"
          ],
          [
           1,
           "woman"
          ],
          [
           1,
           "woman"
          ],
          [
           1,
           "woman"
          ],
          [
           0,
           "man"
          ],
          [
           1,
           "woman"
          ],
          [
           1,
           "woman"
          ],
          [
           0,
           "man"
          ],
          [
           0,
           "man"
          ],
          [
           0,
           "man"
          ],
          [
           1,
           "woman"
          ],
          [
           1,
           "child"
          ],
          [
           0,
           "man"
          ],
          [
           1,
           "woman"
          ],
          [
           0,
           "man"
          ],
          [
           1,
           "woman"
          ],
          [
           0,
           "man"
          ],
          [
           1,
           "woman"
          ],
          [
           1,
           "woman"
          ],
          [
           1,
           "man"
          ],
          [
           1,
           "woman"
          ],
          [
           1,
           "woman"
          ],
          [
           1,
           "woman"
          ],
          [
           1,
           "woman"
          ],
          [
           1,
           "man"
          ],
          [
           1,
           "woman"
          ],
          [
           0,
           "man"
          ],
          [
           1,
           "woman"
          ],
          [
           0,
           "man"
          ],
          [
           1,
           "woman"
          ],
          [
           1,
           "woman"
          ],
          [
           1,
           "man"
          ]
         ],
         "hovertemplate": "Age: %{x}<br>Fare: %{y}<br>Survived: %{customdata[0]}<br>Who: %{customdata[1]}",
         "legendgroup": "First",
         "marker": {
          "color": "#EF553B",
          "symbol": "circle"
         },
         "mode": "markers",
         "name": "First",
         "orientation": "v",
         "showlegend": true,
         "type": "scatter",
         "x": {
          "bdata": "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",
          "dtype": "f8"
         },
         "xaxis": "x",
         "y": {
          "bdata": "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",
          "dtype": "f8"
         },
         "yaxis": "y"
        },
        {
         "customdata": [
          [
           1,
           "child"
          ],
          [
           1,
           "woman"
          ],
          [
           1,
           "man"
          ],
          [
           0,
           "man"
          ],
          [
           1,
           "man"
          ],
          [
           0,
           "man"
          ],
          [
           0,
           "woman"
          ],
          [
           1,
           "child"
          ],
          [
           1,
           "woman"
          ],
          [
           1,
           "woman"
          ],
          [
           1,
           "child"
          ],
          [
           1,
           "woman"
          ],
          [
           0,
           "man"
          ],
          [
           0,
           "man"
          ],
          [
           1,
           "child"
          ],
          [
           1,
           "woman"
          ],
          [
           1,
           "woman"
          ],
          [
           0,
           "man"
          ],
          [
           0,
           "man"
          ],
          [
           0,
           "man"
          ],
          [
           0,
           "man"
          ],
          [
           1,
           "woman"
          ],
          [
           1,
           "woman"
          ],
          [
           0,
           "man"
          ],
          [
           0,
           "man"
          ],
          [
           0,
           "man"
          ],
          [
           0,
           "man"
          ],
          [
           0,
           "man"
          ],
          [
           0,
           "man"
          ],
          [
           0,
           "man"
          ],
          [
           1,
           "woman"
          ],
          [
           0,
           "man"
          ],
          [
           0,
           "man"
          ],
          [
           1,
           "child"
          ],
          [
           1,
           "woman"
          ],
          [
           0,
           "man"
          ],
          [
           1,
           "child"
          ],
          [
           0,
           "woman"
          ],
          [
           1,
           "woman"
          ],
          [
           0,
           "man"
          ],
          [
           0,
           "man"
          ],
          [
           0,
           "man"
          ],
          [
           0,
           "man"
          ],
          [
           1,
           "man"
          ],
          [
           0,
           "man"
          ],
          [
           0,
           "man"
          ],
          [
           0,
           "man"
          ],
          [
           0,
           "man"
          ],
          [
           1,
           "child"
          ],
          [
           0,
           "man"
          ],
          [
           0,
           "man"
          ],
          [
           0,
           "man"
          ],
          [
           1,
           "woman"
          ],
          [
           0,
           "man"
          ],
          [
           1,
           "woman"
          ],
          [
           0,
           "man"
          ],
          [
           1,
           "woman"
          ],
          [
           0,
           "man"
          ],
          [
           1,
           "man"
          ],
          [
           0,
           "man"
          ],
          [
           1,
           "woman"
          ],
          [
           0,
           "man"
          ],
          [
           0,
           "woman"
          ],
          [
           0,
           "man"
          ],
          [
           1,
           "woman"
          ],
          [
           0,
           "man"
          ],
          [
           1,
           "woman"
          ],
          [
           1,
           "woman"
          ],
          [
           1,
           "woman"
          ],
          [
           1,
           "child"
          ],
          [
           0,
           "man"
          ],
          [
           0,
           "man"
          ],
          [
           0,
           "man"
          ],
          [
           1,
           "woman"
          ],
          [
           1,
           "woman"
          ],
          [
           0,
           "woman"
          ],
          [
           0,
           "man"
          ],
          [
           0,
           "man"
          ],
          [
           1,
           "woman"
          ],
          [
           1,
           "woman"
          ],
          [
           0,
           "man"
          ],
          [
           0,
           "man"
          ],
          [
           1,
           "woman"
          ],
          [
           0,
           "man"
          ],
          [
           1,
           "child"
          ],
          [
           0,
           "man"
          ],
          [
           1,
           "woman"
          ],
          [
           1,
           "woman"
          ],
          [
           0,
           "man"
          ],
          [
           1,
           "woman"
          ],
          [
           1,
           "woman"
          ],
          [
           1,
           "woman"
          ],
          [
           1,
           "woman"
          ],
          [
           0,
           "man"
          ],
          [
           1,
           "woman"
          ],
          [
           1,
           "woman"
          ],
          [
           1,
           "child"
          ],
          [
           0,
           "man"
          ],
          [
           1,
           "woman"
          ],
          [
           0,
           "man"
          ],
          [
           0,
           "man"
          ],
          [
           1,
           "woman"
          ],
          [
           1,
           "woman"
          ],
          [
           0,
           "man"
          ],
          [
           0,
           "man"
          ],
          [
           1,
           "woman"
          ],
          [
           1,
           "woman"
          ],
          [
           1,
           "woman"
          ],
          [
           1,
           "woman"
          ],
          [
           0,
           "man"
          ],
          [
           1,
           "child"
          ],
          [
           1,
           "child"
          ],
          [
           1,
           "man"
          ],
          [
           1,
           "woman"
          ],
          [
           1,
           "man"
          ],
          [
           1,
           "child"
          ],
          [
           0,
           "man"
          ],
          [
           0,
           "man"
          ],
          [
           1,
           "man"
          ],
          [
           1,
           "woman"
          ],
          [
           1,
           "woman"
          ],
          [
           0,
           "man"
          ],
          [
           0,
           "man"
          ],
          [
           0,
           "man"
          ],
          [
           1,
           "woman"
          ],
          [
           1,
           "woman"
          ],
          [
           1,
           "woman"
          ],
          [
           1,
           "woman"
          ],
          [
           1,
           "child"
          ],
          [
           0,
           "man"
          ],
          [
           0,
           "man"
          ],
          [
           1,
           "woman"
          ],
          [
           0,
           "man"
          ],
          [
           1,
           "woman"
          ],
          [
           0,
           "man"
          ],
          [
           0,
           "man"
          ],
          [
           0,
           "man"
          ],
          [
           0,
           "man"
          ],
          [
           1,
           "woman"
          ],
          [
           0,
           "man"
          ],
          [
           1,
           "man"
          ],
          [
           0,
           "man"
          ],
          [
           0,
           "man"
          ],
          [
           0,
           "man"
          ],
          [
           0,
           "man"
          ],
          [
           0,
           "man"
          ],
          [
           1,
           "woman"
          ],
          [
           0,
           "man"
          ],
          [
           1,
           "woman"
          ],
          [
           1,
           "child"
          ],
          [
           0,
           "man"
          ],
          [
           0,
           "man"
          ],
          [
           1,
           "woman"
          ],
          [
           0,
           "man"
          ],
          [
           0,
           "man"
          ],
          [
           0,
           "man"
          ],
          [
           0,
           "man"
          ],
          [
           1,
           "woman"
          ],
          [
           1,
           "child"
          ],
          [
           1,
           "woman"
          ],
          [
           1,
           "child"
          ],
          [
           0,
           "man"
          ],
          [
           0,
           "woman"
          ],
          [
           1,
           "woman"
          ],
          [
           0,
           "man"
          ],
          [
           0,
           "man"
          ],
          [
           0,
           "man"
          ],
          [
           1,
           "woman"
          ],
          [
           0,
           "man"
          ],
          [
           0,
           "man"
          ],
          [
           0,
           "man"
          ],
          [
           1,
           "child"
          ],
          [
           1,
           "child"
          ],
          [
           0,
           "man"
          ],
          [
           0,
           "man"
          ],
          [
           0,
           "woman"
          ],
          [
           0,
           "man"
          ],
          [
           0,
           "man"
          ],
          [
           1,
           "woman"
          ],
          [
           1,
           "woman"
          ],
          [
           1,
           "woman"
          ],
          [
           1,
           "woman"
          ],
          [
           0,
           "man"
          ],
          [
           0,
           "man"
          ]
         ],
         "hovertemplate": "Age: %{x}<br>Fare: %{y}<br>Survived: %{customdata[0]}<br>Who: %{customdata[1]}",
         "legendgroup": "Second",
         "marker": {
          "color": "#00cc96",
          "symbol": "circle"
         },
         "mode": "markers",
         "name": "Second",
         "orientation": "v",
         "showlegend": true,
         "type": "scatter",
         "x": {
          "bdata": "AAAAAAAALEAAAAAAAIBLQAAAAAAAAPh/AAAAAACAQUAAAAAAAABBQAAAAAAAgFBAAAAAAAAAO0AAAAAAAAAIQAAAAAAAAD1AAAAAAAAANUAAAAAAAAAUQAAAAAAAAD1AAAAAAAAAQEAAAAAAAAA1QI/C9Shcj+o/AAAAAAAAMUAAAAAAAABBQAAAAAAAAEFAAAAAAAAAPUAAAAAAAAA1QAAAAAAAQEBAAAAAAABAQEAAAAAAAAA9QAAAAAAAADlAAAAAAAAAN0AAAAAAAAAyQAAAAAAAADNAAAAAAABAQkAAAAAAAABFQAAAAAAAgElAAAAAAAAAREAAAAAAAAA+QAAAAAAAAPh/AAAAAAAA8D8AAAAAAABAQAAAAAAAADNAAAAAAAAACEAAAAAAAAA4QAAAAAAAgEFAAAAAAAAAPkAAAAAAAABFQAAAAAAAAD5AAAAAAAAAO0AAAAAAAAAzQAAAAAAAADJAAAAAAACATUAAAAAAAAA4QAAAAAAAAEZAAAAAAAAAIEAAAAAAAAAzQAAAAAAAgEBAAAAAAAAAPUAAAAAAAAA4QAAAAAAAAEtAAAAAAAAASUAAAAAAAABCQAAAAAAAgERAAAAAAAAA+H8AAAAAAABFQAAAAAAAAEJAAAAAAAAA+H8AAAAAAAA+QAAAAAAAADpAAAAAAACARUAAAAAAAAA4QAAAAAAAAEtAAAAAAAAAPkAAAAAAAAA2QAAAAAAAAEJAAAAAAAAAAEAAAAAAAAA8QAAAAAAAADlAAAAAAAAAQkAAAAAAAAA4QAAAAAAAAERAAAAAAAAAQ0AAAAAAAAA9QAAAAAAAADJAAAAAAAAAQkAAAAAAAAAxQAAAAAAAAEdAAAAAAAAAN0AAAAAAAAA8QAAAAAAAAEFAAAAAAAAACEAAAAAAAAD4fwAAAAAAAEFAAAAAAAAAMkAAAAAAAAA+QAAAAAAAADxAAAAAAAAAM0AAAAAAAABFQAAAAAAAADhAAAAAAAAAP0AAAAAAAIBGQAAAAAAAADxAAAAAAAAAKkAAAAAAAABCQAAAAAAAAElAAAAAAAAASEAAAAAAAAD4fwAAAAAAgEBAAAAAAAAAN0AAAAAAAABBQAAAAAAAAPh/AAAAAACAQEAAAAAAAABBQAAAAAAAAEJAAAAAAAAASUAAAAAAAAA3QAAAAAAAAABAAAAAAAAAHEAAAAAAAABAQAAAAAAAADNAAAAAAAAA+H8AAAAAAAAgQAAAAAAAADtAAAAAAAAAPEAAAAAAAABPQAAAAAAAAEFAAAAAAAAAOUAAAAAAAABLQAAAAAAAgEdAAAAAAACAQkAAAAAAAAD4fwAAAAAAADhAAAAAAAAANkAAAAAAAAA4QAAAAAAAABBAAAAAAAAAOkAAAAAAAIBMQAAAAAAAADxAAAAAAAAAP0AAAAAAAAAyQAAAAAAAADhAAAAAAAAAN0AAAAAAAABAQAAAAAAAADlAAAAAAAAAREAAAAAAAIBRQAAAAAAAAD9AAAAAAAAA+H8AAAAAAABOQAAAAAAAADlAAAAAAAAASkAAAAAAAIBDQAAAAAAAgEZAAAAAAAAASkAAAAAAAAA7QAAAAAAAABhAAAAAAAAAQUAAAAAAAABJQAAAAAAAAD5AAAAAAAAAOUAAAAAAAAD4fwAAAAAAADdAAAAAAAAAN0AAAAAAAAA+QAAAAAAAABBAAAAAAAAASEBxPQrXo3DlPwAAAAAAADJAAAAAAACATEAAAAAAAABLQAAAAAAAADBAAAAAAACAQ0AAAAAAAABBQAAAAAAAAD9AAAAAAACAQ0AAAAAAAIBBQAAAAAAAAD9AAAAAAAAA8D+PwvUoXI/qPwAAAAAAADBAAAAAAAAAPEAAAAAAAABGQAAAAAAAADVAAAAAAAAAOEAAAAAAAABFQAAAAAAAADtAAAAAAAAAPEAAAAAAAAA5QAAAAAAAADxAAAAAAAAAO0A=",
          "dtype": "f8"
         },
         "xaxis": "x",
         "y": {
          "bdata": "io7k8h8SPkAAAAAAAAAwQAAAAAAAACpAAAAAAAAAOkAAAAAAAAAqQAAAAAAAACVAAAAAAAAANUDu68A5I8pEQAAAAAAAADpAAAAAAAAAJUAAAAAAAMA7QAAAAAAAACVAAAAAAAAAJUAAAAAAAGBSQAAAAAAAAD1AAAAAAAAAJUAAAAAAAAA3QAAAAAAAADpAAAAAAAAANUAAAAAAAGBSQIqO5PIfEj5AAAAAAAAAKkAAAAAAAAA6QAAAAAAAACpASFD8GHMXLkAAAAAAAAAnQAAAAAAAYEJAAAAAAAAAOkAAAAAAAAAqQM3MzMzMDClAAAAAAACAL0AAAAAAAAAqQJqZmZmZGS5AAAAAAACAQ0AAAAAAAAAqQAAAAAAAACpAAAAAAAAAOkAAAAAAAAAqQAAAAAAAADVAAAAAAAAAKkAAAAAAAAA7QAAAAAAAACVAAAAAAAAAKkAAAAAAAAAlQAAAAAAAACpAAAAAAAAAK0AAAAAAAAAlQAAAAAAAADpAAAAAAABAOkAAAAAAAAAlQM3MzMzMjChAAAAAAAAAJUAAAAAAAAAtQAAAAAAAADpAAAAAAAAAOkAAAAAAAAAlQAAAAAAAgDNAAAAAAAAAAAAAAAAAAAAqQAAAAAAAwClAMzMzMzOzKEAAAAAAAAA4QAAAAAAAADpAAAAAAABAOkAAAAAAAAA6QAAAAAAAACxAMzMzMzOzKEAAAAAAAAA9QAAAAAAAACpAAAAAAAAAOkAAAAAAAAAqQAAAAAAAACpAAAAAAAAAKkAAAAAAAAAqQAAAAAAAACpAAAAAAAAAKkDx9EpZhrg7QAAAAAAAYFJAAAAAAAAAKkAAAAAAAAAoQAAAAAAAADpAAAAAAAAAJUDNzMzMzEwpQAAAAAAAADVAAAAAAADAMkAAAAAAAAAAAAAAAAAAQEBAAAAAAAAAKkAAAAAAAAAqQAAAAAAAADpAAAAAAAAAOkAAAAAAAAA6QAAAAAAAwDJAAAAAAAAAJUAAAAAAAEA6QAAAAAAAACpAAAAAAACAM0AAAAAAAMA7QAAAAAAAACVAAAAAAAAAKkAAAAAAAAAAAAAAAAAAwDtAhXzQs1mVK0AAAAAAAAA1QAAAAAAAAAAAAAAAAAAAOkAAAAAAAAAlQAAAAAAAADpAAAAAAAAAJUAAAAAAAAAnQAAAAAAAADpAAAAAAABAOkAAAAAAAAA6QAAAAAAAADpAmpmZmZm5K0AAAAAAAGBCQAAAAAAAADpAAAAAAAAAK0AAAAAAAAAlQAAAAAAAACpAAAAAAAAAPkAAAAAAAAA6QAAAAAAAAC5AAAAAAAAAOkAAAAAAAIBAQAAAAAAAADtA7uvAOSPKREAAAAAAAEBQQAAAAAAAgENAAAAAAAAAJUAzMzMzM7MoQAAAAAAAACpAAAAAAABAOkAAAAAAAAA3QAAAAAAAYFJAAAAAAAAAKkAAAAAAAGBSQAAAAAAAACpAAAAAAACAQ0AAAAAAAAAlQAAAAAAAACpAAAAAAAAAAAAAAAAAAIBDQO7rwDkjykRAAAAAAAAAK0AAAAAAAAA6QAAAAAAAACtAAAAAAAAAKkAAAAAAAAAlQAAAAAAAgEBAAAAAAAAAKkAAAAAAAAAqQAAAAAAAADVAAAAAAAAAOkAAAAAAAAAAAAAAAAAAACpAAAAAAAAAKkAAAAAAAAAqQAAAAAAAADdAAAAAAABAUEAAAAAAAAAtQAAAAAAAACdAAAAAAAAAJUAAAAAAAAA3QAAAAAAAADpAAAAAAAAAKkAAAAAAAAAqQAAAAAAAQDpAAAAAAAAAKkAAAAAAAAAlQFRSJ6CJgEJAVFInoImAQkAAAAAAAMAyQAAAAAAAACVAAAAAAACAQEAAAAAAAAA6QAAAAAAAACdAAAAAAAAAKkAAAAAAAAAqQEhQ/BhztytAAAAAAAAAOEAAAAAAAAA6QAAAAAAAACVAAAAAAAAAKkA=",
          "dtype": "f8"
         },
         "yaxis": "y"
        }
       ],
       "layout": {
        "legend": {
         "title": {
          "text": "class"
         },
         "tracegroupgap": 0
        },
        "margin": {
         "t": 60
        },
        "template": {
         "data": {
          "bar": [
           {
            "error_x": {
             "color": "#2a3f5f"
            },
            "error_y": {
             "color": "#2a3f5f"
            },
            "marker": {
             "line": {
              "color": "#E5ECF6",
              "width": 0.5
             },
             "pattern": {
              "fillmode": "overlay",
              "size": 10,
              "solidity": 0.2
             }
            },
            "type": "bar"
           }
          ],
          "barpolar": [
           {
            "marker": {
             "line": {
              "color": "#E5ECF6",
              "width": 0.5
             },
             "pattern": {
              "fillmode": "overlay",
              "size": 10,
              "solidity": 0.2
             }
            },
            "type": "barpolar"
           }
          ],
          "carpet": [
           {
            "aaxis": {
             "endlinecolor": "#2a3f5f",
             "gridcolor": "white",
             "linecolor": "white",
             "minorgridcolor": "white",
             "startlinecolor": "#2a3f5f"
            },
            "baxis": {
             "endlinecolor": "#2a3f5f",
             "gridcolor": "white",
             "linecolor": "white",
             "minorgridcolor": "white",
             "startlinecolor": "#2a3f5f"
            },
            "type": "carpet"
           }
          ],
          "choropleth": [
           {
            "colorbar": {
             "outlinewidth": 0,
             "ticks": ""
            },
            "type": "choropleth"
           }
          ],
          "contour": [
           {
            "colorbar": {
             "outlinewidth": 0,
             "ticks": ""
            },
            "colorscale": [
             [
              0,
              "#0d0887"
             ],
             [
              0.1111111111111111,
              "#46039f"
             ],
             [
              0.2222222222222222,
              "#7201a8"
             ],
             [
              0.3333333333333333,
              "#9c179e"
             ],
             [
              0.4444444444444444,
              "#bd3786"
             ],
             [
              0.5555555555555556,
              "#d8576b"
             ],
             [
              0.6666666666666666,
              "#ed7953"
             ],
             [
              0.7777777777777778,
              "#fb9f3a"
             ],
             [
              0.8888888888888888,
              "#fdca26"
             ],
             [
              1,
              "#f0f921"
             ]
            ],
            "type": "contour"
           }
          ],
          "contourcarpet": [
           {
            "colorbar": {
             "outlinewidth": 0,
             "ticks": ""
            },
            "type": "contourcarpet"
           }
          ],
          "heatmap": [
           {
            "colorbar": {
             "outlinewidth": 0,
             "ticks": ""
            },
            "colorscale": [
             [
              0,
              "#0d0887"
             ],
             [
              0.1111111111111111,
              "#46039f"
             ],
             [
              0.2222222222222222,
              "#7201a8"
             ],
             [
              0.3333333333333333,
              "#9c179e"
             ],
             [
              0.4444444444444444,
              "#bd3786"
             ],
             [
              0.5555555555555556,
              "#d8576b"
             ],
             [
              0.6666666666666666,
              "#ed7953"
             ],
             [
              0.7777777777777778,
              "#fb9f3a"
             ],
             [
              0.8888888888888888,
              "#fdca26"
             ],
             [
              1,
              "#f0f921"
             ]
            ],
            "type": "heatmap"
           }
          ],
          "histogram": [
           {
            "marker": {
             "pattern": {
              "fillmode": "overlay",
              "size": 10,
              "solidity": 0.2
             }
            },
            "type": "histogram"
           }
          ],
          "histogram2d": [
           {
            "colorbar": {
             "outlinewidth": 0,
             "ticks": ""
            },
            "colorscale": [
             [
              0,
              "#0d0887"
             ],
             [
              0.1111111111111111,
              "#46039f"
             ],
             [
              0.2222222222222222,
              "#7201a8"
             ],
             [
              0.3333333333333333,
              "#9c179e"
             ],
             [
              0.4444444444444444,
              "#bd3786"
             ],
             [
              0.5555555555555556,
              "#d8576b"
             ],
             [
              0.6666666666666666,
              "#ed7953"
             ],
             [
              0.7777777777777778,
              "#fb9f3a"
             ],
             [
              0.8888888888888888,
              "#fdca26"
             ],
             [
              1,
              "#f0f921"
             ]
            ],
            "type": "histogram2d"
           }
          ],
          "histogram2dcontour": [
           {
            "colorbar": {
             "outlinewidth": 0,
             "ticks": ""
            },
            "colorscale": [
             [
              0,
              "#0d0887"
             ],
             [
              0.1111111111111111,
              "#46039f"
             ],
             [
              0.2222222222222222,
              "#7201a8"
             ],
             [
              0.3333333333333333,
              "#9c179e"
             ],
             [
              0.4444444444444444,
              "#bd3786"
             ],
             [
              0.5555555555555556,
              "#d8576b"
             ],
             [
              0.6666666666666666,
              "#ed7953"
             ],
             [
              0.7777777777777778,
              "#fb9f3a"
             ],
             [
              0.8888888888888888,
              "#fdca26"
             ],
             [
              1,
              "#f0f921"
             ]
            ],
            "type": "histogram2dcontour"
           }
          ],
          "mesh3d": [
           {
            "colorbar": {
             "outlinewidth": 0,
             "ticks": ""
            },
            "type": "mesh3d"
           }
          ],
          "parcoords": [
           {
            "line": {
             "colorbar": {
              "outlinewidth": 0,
              "ticks": ""
             }
            },
            "type": "parcoords"
           }
          ],
          "pie": [
           {
            "automargin": true,
            "type": "pie"
           }
          ],
          "scatter": [
           {
            "fillpattern": {
             "fillmode": "overlay",
             "size": 10,
             "solidity": 0.2
            },
            "type": "scatter"
           }
          ],
          "scatter3d": [
           {
            "line": {
             "colorbar": {
              "outlinewidth": 0,
              "ticks": ""
             }
            },
            "marker": {
             "colorbar": {
              "outlinewidth": 0,
              "ticks": ""
             }
            },
            "type": "scatter3d"
           }
          ],
          "scattercarpet": [
           {
            "marker": {
             "colorbar": {
              "outlinewidth": 0,
              "ticks": ""
             }
            },
            "type": "scattercarpet"
           }
          ],
          "scattergeo": [
           {
            "marker": {
             "colorbar": {
              "outlinewidth": 0,
              "ticks": ""
             }
            },
            "type": "scattergeo"
           }
          ],
          "scattergl": [
           {
            "marker": {
             "colorbar": {
              "outlinewidth": 0,
              "ticks": ""
             }
            },
            "type": "scattergl"
           }
          ],
          "scattermap": [
           {
            "marker": {
             "colorbar": {
              "outlinewidth": 0,
              "ticks": ""
             }
            },
            "type": "scattermap"
           }
          ],
          "scattermapbox": [
           {
            "marker": {
             "colorbar": {
              "outlinewidth": 0,
              "ticks": ""
             }
            },
            "type": "scattermapbox"
           }
          ],
          "scatterpolar": [
           {
            "marker": {
             "colorbar": {
              "outlinewidth": 0,
              "ticks": ""
             }
            },
            "type": "scatterpolar"
           }
          ],
          "scatterpolargl": [
           {
            "marker": {
             "colorbar": {
              "outlinewidth": 0,
              "ticks": ""
             }
            },
            "type": "scatterpolargl"
           }
          ],
          "scatterternary": [
           {
            "marker": {
             "colorbar": {
              "outlinewidth": 0,
              "ticks": ""
             }
            },
            "type": "scatterternary"
           }
          ],
          "surface": [
           {
            "colorbar": {
             "outlinewidth": 0,
             "ticks": ""
            },
            "colorscale": [
             [
              0,
              "#0d0887"
             ],
             [
              0.1111111111111111,
              "#46039f"
             ],
             [
              0.2222222222222222,
              "#7201a8"
             ],
             [
              0.3333333333333333,
              "#9c179e"
             ],
             [
              0.4444444444444444,
              "#bd3786"
             ],
             [
              0.5555555555555556,
              "#d8576b"
             ],
             [
              0.6666666666666666,
              "#ed7953"
             ],
             [
              0.7777777777777778,
              "#fb9f3a"
             ],
             [
              0.8888888888888888,
              "#fdca26"
             ],
             [
              1,
              "#f0f921"
             ]
            ],
            "type": "surface"
           }
          ],
          "table": [
           {
            "cells": {
             "fill": {
              "color": "#EBF0F8"
             },
             "line": {
              "color": "white"
             }
            },
            "header": {
             "fill": {
              "color": "#C8D4E3"
             },
             "line": {
              "color": "white"
             }
            },
            "type": "table"
           }
          ]
         },
         "layout": {
          "annotationdefaults": {
           "arrowcolor": "#2a3f5f",
           "arrowhead": 0,
           "arrowwidth": 1
          },
          "autotypenumbers": "strict",
          "coloraxis": {
           "colorbar": {
            "outlinewidth": 0,
            "ticks": ""
           }
          },
          "colorscale": {
           "diverging": [
            [
             0,
             "#8e0152"
            ],
            [
             0.1,
             "#c51b7d"
            ],
            [
             0.2,
             "#de77ae"
            ],
            [
             0.3,
             "#f1b6da"
            ],
            [
             0.4,
             "#fde0ef"
            ],
            [
             0.5,
             "#f7f7f7"
            ],
            [
             0.6,
             "#e6f5d0"
            ],
            [
             0.7,
             "#b8e186"
            ],
            [
             0.8,
             "#7fbc41"
            ],
            [
             0.9,
             "#4d9221"
            ],
            [
             1,
             "#276419"
            ]
           ],
           "sequential": [
            [
             0,
             "#0d0887"
            ],
            [
             0.1111111111111111,
             "#46039f"
            ],
            [
             0.2222222222222222,
             "#7201a8"
            ],
            [
             0.3333333333333333,
             "#9c179e"
            ],
            [
             0.4444444444444444,
             "#bd3786"
            ],
            [
             0.5555555555555556,
             "#d8576b"
            ],
            [
             0.6666666666666666,
             "#ed7953"
            ],
            [
             0.7777777777777778,
             "#fb9f3a"
            ],
            [
             0.8888888888888888,
             "#fdca26"
            ],
            [
             1,
             "#f0f921"
            ]
           ],
           "sequentialminus": [
            [
             0,
             "#0d0887"
            ],
            [
             0.1111111111111111,
             "#46039f"
            ],
            [
             0.2222222222222222,
             "#7201a8"
            ],
            [
             0.3333333333333333,
             "#9c179e"
            ],
            [
             0.4444444444444444,
             "#bd3786"
            ],
            [
             0.5555555555555556,
             "#d8576b"
            ],
            [
             0.6666666666666666,
             "#ed7953"
            ],
            [
             0.7777777777777778,
             "#fb9f3a"
            ],
            [
             0.8888888888888888,
             "#fdca26"
            ],
            [
             1,
             "#f0f921"
            ]
           ]
          },
          "colorway": [
           "#636efa",
           "#EF553B",
           "#00cc96",
           "#ab63fa",
           "#FFA15A",
           "#19d3f3",
           "#FF6692",
           "#B6E880",
           "#FF97FF",
           "#FECB52"
          ],
          "font": {
           "color": "#2a3f5f"
          },
          "geo": {
           "bgcolor": "white",
           "lakecolor": "white",
           "landcolor": "#E5ECF6",
           "showlakes": true,
           "showland": true,
           "subunitcolor": "white"
          },
          "hoverlabel": {
           "align": "left"
          },
          "hovermode": "closest",
          "mapbox": {
           "style": "light"
          },
          "paper_bgcolor": "white",
          "plot_bgcolor": "#E5ECF6",
          "polar": {
           "angularaxis": {
            "gridcolor": "white",
            "linecolor": "white",
            "ticks": ""
           },
           "bgcolor": "#E5ECF6",
           "radialaxis": {
            "gridcolor": "white",
            "linecolor": "white",
            "ticks": ""
           }
          },
          "scene": {
           "xaxis": {
            "backgroundcolor": "#E5ECF6",
            "gridcolor": "white",
            "gridwidth": 2,
            "linecolor": "white",
            "showbackground": true,
            "ticks": "",
            "zerolinecolor": "white"
           },
           "yaxis": {
            "backgroundcolor": "#E5ECF6",
            "gridcolor": "white",
            "gridwidth": 2,
            "linecolor": "white",
            "showbackground": true,
            "ticks": "",
            "zerolinecolor": "white"
           },
           "zaxis": {
            "backgroundcolor": "#E5ECF6",
            "gridcolor": "white",
            "gridwidth": 2,
            "linecolor": "white",
            "showbackground": true,
            "ticks": "",
            "zerolinecolor": "white"
           }
          },
          "shapedefaults": {
           "line": {
            "color": "#2a3f5f"
           }
          },
          "ternary": {
           "aaxis": {
            "gridcolor": "white",
            "linecolor": "white",
            "ticks": ""
           },
           "baxis": {
            "gridcolor": "white",
            "linecolor": "white",
            "ticks": ""
           },
           "bgcolor": "#E5ECF6",
           "caxis": {
            "gridcolor": "white",
            "linecolor": "white",
            "ticks": ""
           }
          },
          "title": {
           "x": 0.05
          },
          "xaxis": {
           "automargin": true,
           "gridcolor": "white",
           "linecolor": "white",
           "ticks": "",
           "title": {
            "standoff": 15
           },
           "zerolinecolor": "white",
           "zerolinewidth": 2
          },
          "yaxis": {
           "automargin": true,
           "gridcolor": "white",
           "linecolor": "white",
           "ticks": "",
           "title": {
            "standoff": 15
           },
           "zerolinecolor": "white",
           "zerolinewidth": 2
          }
         }
        },
        "title": {
         "text": "Relationship between Age and Fare"
        },
        "xaxis": {
         "anchor": "y",
         "domain": [
          0,
          1
         ],
         "title": {
          "text": "Age"
         }
        },
        "yaxis": {
         "anchor": "x",
         "domain": [
          0,
          1
         ],
         "title": {
          "text": "Fare"
         }
        }
       }
      }
     },
     "metadata": {},
     "output_type": "display_data"
    }
   ],
   "source": [
    "import plotly.express as px\n",
    "\n",
    "# Create scatter plot\n",
    "fig = px.scatter(df, x=\"age\", y=\"fare\", color=\"class\", hover_data=[\"survived\", \"who\"])\n",
    "\n",
    "# Add tooltips\n",
    "fig.update_traces(hovertemplate=\"Age: %{x}<br>Fare: %{y}<br>Survived: %{customdata[0]}<br>Who: %{customdata[1]}\")\n",
    "\n",
    "# Add axis labels and title\n",
    "fig.update_layout(\n",
    "    xaxis_title=\"Age\",\n",
    "    yaxis_title=\"Fare\",\n",
    "    title=\"Relationship between Age and Fare\"\n",
    ")\n",
    "\n",
    "# Show the plot\n",
    "fig.show()"
   ]
  },
  {
   "cell_type": "markdown",
   "metadata": {},
   "source": [
    "4. Create a histogram using Matplotlib to visualize the distribution of passenger ages in the Titanic dataset. Customize the bin size, color, and transparency of the bars."
   ]
  },
  {
   "cell_type": "code",
   "execution_count": 6,
   "metadata": {},
   "outputs": [
    {
     "data": {
      "image/png": "[encoded data removed]",
      "text/plain": [
       "<Figure size 640x480 with 1 Axes>"
      ]
     },
     "metadata": {},
     "output_type": "display_data"
    }
   ],
   "source": [
    "# Create histogram\n",
    "plt.hist(df[\"age\"], bins=10, color=\"skyblue\", alpha=0.8)\n",
    "\n",
    "# Add labels and title\n",
    "plt.xlabel(\"Age\")\n",
    "plt.ylabel(\"Frequency\")\n",
    "plt.title(\"Distribution of Age\")\n",
    "\n",
    "# Display the plot\n",
    "plt.show()"
   ]
  },
  {
   "cell_type": "markdown",
   "metadata": {},
   "source": [
    "5. Use Seaborn to create a box plot to compare the fare distribution across different passenger classes (Pclass) in the Titanic dataset. Add labels to the x-axis and y-axis, and include a legend to indicate the passenger classes."
   ]
  },
  {
   "cell_type": "code",
   "execution_count": null,
   "metadata": {},
   "outputs": [
    {
     "data": {
      "image/png": "[encoded data removed]",
      "text/plain": [
       "<Figure size 640x480 with 1 Axes>"
      ]
     },
     "metadata": {},
     "output_type": "display_data"
    }
   ],
   "source": [
    "# Create box plot\n",
    "sns.boxplot(data=df, x=\"class\", y=\"fare\")\n",
    "\n",
    "# Add labels and title\n",
    "plt.xlabel(\"Class\")\n",
    "plt.ylabel(\"Fare\")\n",
    "plt.title(\"Distribution of Fare by Class\")\n",
    "\n",
    "# Display the plot\n",
    "plt.show()"
   ]
  },
  {
   "cell_type": "markdown",
   "metadata": {},
   "source": [
    "6. Create a line plot using Plotly to display the survival rate of passengers based on their age in the Titanic dataset. Group the data by age range and calculate the survival rate for each group. Add a title and axis labels to the plot."
   ]
  },
  {
   "cell_type": "code",
   "execution_count": 8,
   "metadata": {},
   "outputs": [
    {
     "name": "stderr",
     "output_type": "stream",
     "text": [
      "C:\\Users\\zpoke\\AppData\\Local\\Temp\\ipykernel_9804\\1660252269.py:7: FutureWarning:\n",
      "\n",
      "The default of observed=False is deprecated and will be changed to True in a future version of pandas. Pass observed=False to retain current behavior or observed=True to adopt the future default and silence this warning.\n",
      "\n"
     ]
    },
    {
     "data": {
      "application/vnd.plotly.v1+json": {
       "config": {
        "plotlyServerURL": "https://plot.ly"
       },
       "data": [
        {
         "hovertemplate": "Age Group=%{x}<br>Survival Rate=%{y}<extra></extra>",
         "legendgroup": "",
         "line": {
          "color": "#636efa",
          "dash": "solid"
         },
         "marker": {
          "symbol": "circle"
         },
         "mode": "lines+markers",
         "name": "",
         "orientation": "v",
         "showlegend": false,
         "type": "scatter",
         "x": [
          "0-10",
          "11-20",
          "21-30",
          "31-40",
          "41-50",
          "51-60",
          "61-70",
          "71-80"
         ],
         "xaxis": "x",
         "y": {
          "bdata": "nXPOOeec4z+6ubm5ubnZP2ZmZmZmZtY/FNWDRt752z+HOcxhDnPYP6uqqqqqqto/XkN5DeU11D8AAAAAAAAAAA==",
          "dtype": "f8"
         },
         "yaxis": "y"
        }
       ],
       "layout": {
        "legend": {
         "tracegroupgap": 0
        },
        "template": {
         "data": {
          "bar": [
           {
            "error_x": {
             "color": "#2a3f5f"
            },
            "error_y": {
             "color": "#2a3f5f"
            },
            "marker": {
             "line": {
              "color": "#E5ECF6",
              "width": 0.5
             },
             "pattern": {
              "fillmode": "overlay",
              "size": 10,
              "solidity": 0.2
             }
            },
            "type": "bar"
           }
          ],
          "barpolar": [
           {
            "marker": {
             "line": {
              "color": "#E5ECF6",
              "width": 0.5
             },
             "pattern": {
              "fillmode": "overlay",
              "size": 10,
              "solidity": 0.2
             }
            },
            "type": "barpolar"
           }
          ],
          "carpet": [
           {
            "aaxis": {
             "endlinecolor": "#2a3f5f",
             "gridcolor": "white",
             "linecolor": "white",
             "minorgridcolor": "white",
             "startlinecolor": "#2a3f5f"
            },
            "baxis": {
             "endlinecolor": "#2a3f5f",
             "gridcolor": "white",
             "linecolor": "white",
             "minorgridcolor": "white",
             "startlinecolor": "#2a3f5f"
            },
            "type": "carpet"
           }
          ],
          "choropleth": [
           {
            "colorbar": {
             "outlinewidth": 0,
             "ticks": ""
            },
            "type": "choropleth"
           }
          ],
          "contour": [
           {
            "colorbar": {
             "outlinewidth": 0,
             "ticks": ""
            },
            "colorscale": [
             [
              0,
              "#0d0887"
             ],
             [
              0.1111111111111111,
              "#46039f"
             ],
             [
              0.2222222222222222,
              "#7201a8"
             ],
             [
              0.3333333333333333,
              "#9c179e"
             ],
             [
              0.4444444444444444,
              "#bd3786"
             ],
             [
              0.5555555555555556,
              "#d8576b"
             ],
             [
              0.6666666666666666,
              "#ed7953"
             ],
             [
              0.7777777777777778,
              "#fb9f3a"
             ],
             [
              0.8888888888888888,
              "#fdca26"
             ],
             [
              1,
              "#f0f921"
             ]
            ],
            "type": "contour"
           }
          ],
          "contourcarpet": [
           {
            "colorbar": {
             "outlinewidth": 0,
             "ticks": ""
            },
            "type": "contourcarpet"
           }
          ],
          "heatmap": [
           {
            "colorbar": {
             "outlinewidth": 0,
             "ticks": ""
            },
            "colorscale": [
             [
              0,
              "#0d0887"
             ],
             [
              0.1111111111111111,
              "#46039f"
             ],
             [
              0.2222222222222222,
              "#7201a8"
             ],
             [
              0.3333333333333333,
              "#9c179e"
             ],
             [
              0.4444444444444444,
              "#bd3786"
             ],
             [
              0.5555555555555556,
              "#d8576b"
             ],
             [
              0.6666666666666666,
              "#ed7953"
             ],
             [
              0.7777777777777778,
              "#fb9f3a"
             ],
             [
              0.8888888888888888,
              "#fdca26"
             ],
             [
              1,
              "#f0f921"
             ]
            ],
            "type": "heatmap"
           }
          ],
          "histogram": [
           {
            "marker": {
             "pattern": {
              "fillmode": "overlay",
              "size": 10,
              "solidity": 0.2
             }
            },
            "type": "histogram"
           }
          ],
          "histogram2d": [
           {
            "colorbar": {
             "outlinewidth": 0,
             "ticks": ""
            },
            "colorscale": [
             [
              0,
              "#0d0887"
             ],
             [
              0.1111111111111111,
              "#46039f"
             ],
             [
              0.2222222222222222,
              "#7201a8"
             ],
             [
              0.3333333333333333,
              "#9c179e"
             ],
             [
              0.4444444444444444,
              "#bd3786"
             ],
             [
              0.5555555555555556,
              "#d8576b"
             ],
             [
              0.6666666666666666,
              "#ed7953"
             ],
             [
              0.7777777777777778,
              "#fb9f3a"
             ],
             [
              0.8888888888888888,
              "#fdca26"
             ],
             [
              1,
              "#f0f921"
             ]
            ],
            "type": "histogram2d"
           }
          ],
          "histogram2dcontour": [
           {
            "colorbar": {
             "outlinewidth": 0,
             "ticks": ""
            },
            "colorscale": [
             [
              0,
              "#0d0887"
             ],
             [
              0.1111111111111111,
              "#46039f"
             ],
             [
              0.2222222222222222,
              "#7201a8"
             ],
             [
              0.3333333333333333,
              "#9c179e"
             ],
             [
              0.4444444444444444,
              "#bd3786"
             ],
             [
              0.5555555555555556,
              "#d8576b"
             ],
             [
              0.6666666666666666,
              "#ed7953"
             ],
             [
              0.7777777777777778,
              "#fb9f3a"
             ],
             [
              0.8888888888888888,
              "#fdca26"
             ],
             [
              1,
              "#f0f921"
             ]
            ],
            "type": "histogram2dcontour"
           }
          ],
          "mesh3d": [
           {
            "colorbar": {
             "outlinewidth": 0,
             "ticks": ""
            },
            "type": "mesh3d"
           }
          ],
          "parcoords": [
           {
            "line": {
             "colorbar": {
              "outlinewidth": 0,
              "ticks": ""
             }
            },
            "type": "parcoords"
           }
          ],
          "pie": [
           {
            "automargin": true,
            "type": "pie"
           }
          ],
          "scatter": [
           {
            "fillpattern": {
             "fillmode": "overlay",
             "size": 10,
             "solidity": 0.2
            },
            "type": "scatter"
           }
          ],
          "scatter3d": [
           {
            "line": {
             "colorbar": {
              "outlinewidth": 0,
              "ticks": ""
             }
            },
            "marker": {
             "colorbar": {
              "outlinewidth": 0,
              "ticks": ""
             }
            },
            "type": "scatter3d"
           }
          ],
          "scattercarpet": [
           {
            "marker": {
             "colorbar": {
              "outlinewidth": 0,
              "ticks": ""
             }
            },
            "type": "scattercarpet"
           }
          ],
          "scattergeo": [
           {
            "marker": {
             "colorbar": {
              "outlinewidth": 0,
              "ticks": ""
             }
            },
            "type": "scattergeo"
           }
          ],
          "scattergl": [
           {
            "marker": {
             "colorbar": {
              "outlinewidth": 0,
              "ticks": ""
             }
            },
            "type": "scattergl"
           }
          ],
          "scattermap": [
           {
            "marker": {
             "colorbar": {
              "outlinewidth": 0,
              "ticks": ""
             }
            },
            "type": "scattermap"
           }
          ],
          "scattermapbox": [
           {
            "marker": {
             "colorbar": {
              "outlinewidth": 0,
              "ticks": ""
             }
            },
            "type": "scattermapbox"
           }
          ],
          "scatterpolar": [
           {
            "marker": {
             "colorbar": {
              "outlinewidth": 0,
              "ticks": ""
             }
            },
            "type": "scatterpolar"
           }
          ],
          "scatterpolargl": [
           {
            "marker": {
             "colorbar": {
              "outlinewidth": 0,
              "ticks": ""
             }
            },
            "type": "scatterpolargl"
           }
          ],
          "scatterternary": [
           {
            "marker": {
             "colorbar": {
              "outlinewidth": 0,
              "ticks": ""
             }
            },
            "type": "scatterternary"
           }
          ],
          "surface": [
           {
            "colorbar": {
             "outlinewidth": 0,
             "ticks": ""
            },
            "colorscale": [
             [
              0,
              "#0d0887"
             ],
             [
              0.1111111111111111,
              "#46039f"
             ],
             [
              0.2222222222222222,
              "#7201a8"
             ],
             [
              0.3333333333333333,
              "#9c179e"
             ],
             [
              0.4444444444444444,
              "#bd3786"
             ],
             [
              0.5555555555555556,
              "#d8576b"
             ],
             [
              0.6666666666666666,
              "#ed7953"
             ],
             [
              0.7777777777777778,
              "#fb9f3a"
             ],
             [
              0.8888888888888888,
              "#fdca26"
             ],
             [
              1,
              "#f0f921"
             ]
            ],
            "type": "surface"
           }
          ],
          "table": [
           {
            "cells": {
             "fill": {
              "color": "#EBF0F8"
             },
             "line": {
              "color": "white"
             }
            },
            "header": {
             "fill": {
              "color": "#C8D4E3"
             },
             "line": {
              "color": "white"
             }
            },
            "type": "table"
           }
          ]
         },
         "layout": {
          "annotationdefaults": {
           "arrowcolor": "#2a3f5f",
           "arrowhead": 0,
           "arrowwidth": 1
          },
          "autotypenumbers": "strict",
          "coloraxis": {
           "colorbar": {
            "outlinewidth": 0,
            "ticks": ""
           }
          },
          "colorscale": {
           "diverging": [
            [
             0,
             "#8e0152"
            ],
            [
             0.1,
             "#c51b7d"
            ],
            [
             0.2,
             "#de77ae"
            ],
            [
             0.3,
             "#f1b6da"
            ],
            [
             0.4,
             "#fde0ef"
            ],
            [
             0.5,
             "#f7f7f7"
            ],
            [
             0.6,
             "#e6f5d0"
            ],
            [
             0.7,
             "#b8e186"
            ],
            [
             0.8,
             "#7fbc41"
            ],
            [
             0.9,
             "#4d9221"
            ],
            [
             1,
             "#276419"
            ]
           ],
           "sequential": [
            [
             0,
             "#0d0887"
            ],
            [
             0.1111111111111111,
             "#46039f"
            ],
            [
             0.2222222222222222,
             "#7201a8"
            ],
            [
             0.3333333333333333,
             "#9c179e"
            ],
            [
             0.4444444444444444,
             "#bd3786"
            ],
            [
             0.5555555555555556,
             "#d8576b"
            ],
            [
             0.6666666666666666,
             "#ed7953"
            ],
            [
             0.7777777777777778,
             "#fb9f3a"
            ],
            [
             0.8888888888888888,
             "#fdca26"
            ],
            [
             1,
             "#f0f921"
            ]
           ],
           "sequentialminus": [
            [
             0,
             "#0d0887"
            ],
            [
             0.1111111111111111,
             "#46039f"
            ],
            [
             0.2222222222222222,
             "#7201a8"
            ],
            [
             0.3333333333333333,
             "#9c179e"
            ],
            [
             0.4444444444444444,
             "#bd3786"
            ],
            [
             0.5555555555555556,
             "#d8576b"
            ],
            [
             0.6666666666666666,
             "#ed7953"
            ],
            [
             0.7777777777777778,
             "#fb9f3a"
            ],
            [
             0.8888888888888888,
             "#fdca26"
            ],
            [
             1,
             "#f0f921"
            ]
           ]
          },
          "colorway": [
           "#636efa",
           "#EF553B",
           "#00cc96",
           "#ab63fa",
           "#FFA15A",
           "#19d3f3",
           "#FF6692",
           "#B6E880",
           "#FF97FF",
           "#FECB52"
          ],
          "font": {
           "color": "#2a3f5f"
          },
          "geo": {
           "bgcolor": "white",
           "lakecolor": "white",
           "landcolor": "#E5ECF6",
           "showlakes": true,
           "showland": true,
           "subunitcolor": "white"
          },
          "hoverlabel": {
           "align": "left"
          },
          "hovermode": "closest",
          "mapbox": {
           "style": "light"
          },
          "paper_bgcolor": "white",
          "plot_bgcolor": "#E5ECF6",
          "polar": {
           "angularaxis": {
            "gridcolor": "white",
            "linecolor": "white",
            "ticks": ""
           },
           "bgcolor": "#E5ECF6",
           "radialaxis": {
            "gridcolor": "white",
            "linecolor": "white",
            "ticks": ""
           }
          },
          "scene": {
           "xaxis": {
            "backgroundcolor": "#E5ECF6",
            "gridcolor": "white",
            "gridwidth": 2,
            "linecolor": "white",
            "showbackground": true,
            "ticks": "",
            "zerolinecolor": "white"
           },
           "yaxis": {
            "backgroundcolor": "#E5ECF6",
            "gridcolor": "white",
            "gridwidth": 2,
            "linecolor": "white",
            "showbackground": true,
            "ticks": "",
            "zerolinecolor": "white"
           },
           "zaxis": {
            "backgroundcolor": "#E5ECF6",
            "gridcolor": "white",
            "gridwidth": 2,
            "linecolor": "white",
            "showbackground": true,
            "ticks": "",
            "zerolinecolor": "white"
           }
          },
          "shapedefaults": {
           "line": {
            "color": "#2a3f5f"
           }
          },
          "ternary": {
           "aaxis": {
            "gridcolor": "white",
            "linecolor": "white",
            "ticks": ""
           },
           "baxis": {
            "gridcolor": "white",
            "linecolor": "white",
            "ticks": ""
           },
           "bgcolor": "#E5ECF6",
           "caxis": {
            "gridcolor": "white",
            "linecolor": "white",
            "ticks": ""
           }
          },
          "title": {
           "x": 0.05
          },
          "xaxis": {
           "automargin": true,
           "gridcolor": "white",
           "linecolor": "white",
           "ticks": "",
           "title": {
            "standoff": 15
           },
           "zerolinecolor": "white",
           "zerolinewidth": 2
          },
          "yaxis": {
           "automargin": true,
           "gridcolor": "white",
           "linecolor": "white",
           "ticks": "",
           "title": {
            "standoff": 15
           },
           "zerolinecolor": "white",
           "zerolinewidth": 2
          }
         }
        },
        "title": {
         "text": "Survival Rate by Age Group"
        },
        "xaxis": {
         "anchor": "y",
         "domain": [
          0,
          1
         ],
         "title": {
          "text": "Age Group"
         }
        },
        "yaxis": {
         "anchor": "x",
         "domain": [
          0,
          1
         ],
         "title": {
          "text": "Survival Rate"
         }
        }
       }
      }
     },
     "metadata": {},
     "output_type": "display_data"
    }
   ],
   "source": [
    "# Create age ranges\n",
    "bins = [0, 10, 20, 30, 40, 50, 60, 70, 80]\n",
    "labels = ['0-10', '11-20', '21-30', '31-40', '41-50', '51-60', '61-70', '71-80']\n",
    "df['age_range'] = pd.cut(df['age'], bins=bins, labels=labels, right=False)\n",
    "\n",
    "# Group by age range and calculate the survival rate\n",
    "age_survival = df.groupby('age_range')['survived'].mean().reset_index()\n",
    "\n",
    "# Create line plot\n",
    "fig = px.line(age_survival, x='age_range', y='survived', markers=True,\n",
    "              title='Survival Rate by Age Group',\n",
    "              labels={'age_range': 'Age Group', 'survived': 'Survival Rate'})\n",
    "\n",
    "# Display the plot\n",
    "fig.show()"
   ]
  },
  {
   "cell_type": "markdown",
   "metadata": {},
   "source": [
    "7. Use Matplotlib to create a stacked bar plot to visualize the survival count of passengers in different passenger classes (Pclass) and embarkation ports (Embarked) in the Titanic dataset. Customize the colors, add a legend, and include a title for the plot."
   ]
  },
  {
   "cell_type": "code",
   "execution_count": null,
   "metadata": {},
   "outputs": [
    {
     "name": "stderr",
     "output_type": "stream",
     "text": [
      "C:\\Users\\zpoke\\AppData\\Local\\Temp\\ipykernel_9804\\3040302164.py:2: FutureWarning:\n",
      "\n",
      "The default of observed=False is deprecated and will be changed to True in a future version of pandas. Pass observed=False to retain current behavior or observed=True to adopt the future default and silence this warning.\n",
      "\n"
     ]
    },
    {
     "data": {
      "image/png": "[encoded data removed]",
      "text/plain": [
       "<Figure size 1200x700 with 1 Axes>"
      ]
     },
     "metadata": {},
     "output_type": "display_data"
    }
   ],
   "source": [
    "# Create a pivot table to get count of survived vs not survived\n",
    "survival_counts = df.groupby(['class', 'embark_town'])['survived'].value_counts().unstack().fillna(0)\n",
    "survival_counts.columns = ['Not Survived', 'Survived']\n",
    "\n",
    "# Create the stacked bar plot\n",
    "ax = survival_counts.plot(kind='bar', stacked=True, color=['red', 'green'], figsize=(12,7))\n",
    "\n",
    "# Add title and labels\n",
    "plt.title('Survival Count by Passenger Class and Embarkation Port', fontsize=16)\n",
    "plt.xlabel('Passenger Class and Embarkation Port', fontsize=12)\n",
    "plt.ylabel('Number of Passengers', fontsize=12)\n",
    "\n",
    "# Add a legend\n",
    "plt.legend(title='Survival Status')\n",
    "\n",
    "# Display the plot\n",
    "plt.tight_layout()\n",
    "plt.show()"
   ]
  },
  {
   "cell_type": "markdown",
   "metadata": {},
   "source": [
    "8. Create a heat map using Seaborn to visualize the correlation matrix of numerical variables in the Titanic dataset, such as age, fare, and number of siblings/spouses aboard (SibSp). Customize the color palette and add annotations to the cells to display the correlation values."
   ]
  },
  {
   "cell_type": "code",
   "execution_count": 13,
   "metadata": {},
   "outputs": [
    {
     "data": {
      "image/png": "[encoded data removed]",
      "text/plain": [
       "<Figure size 800x600 with 2 Axes>"
      ]
     },
     "metadata": {},
     "output_type": "display_data"
    }
   ],
   "source": [
    "# Extract numerical columns for correlation matrix\n",
    "numerical_columns = ['age', 'fare', 'sibsp']\n",
    "titanic_numerical = df[numerical_columns]\n",
    "\n",
    "# Calculate correlation matrix\n",
    "correlation_matrix = titanic_numerical.corr()\n",
    "\n",
    "# Create heat map\n",
    "plt.figure(figsize=(8, 6))\n",
    "sns.heatmap(correlation_matrix, annot=True, cmap='coolwarm')\n",
    "\n",
    "# Add title\n",
    "plt.title('Correlation Matrix')\n",
    "\n",
    "# Show the plot\n",
    "plt.show()"
   ]
  }
 ],
 "metadata": {
  "kernelspec": {
   "display_name": ".venv",
   "language": "python",
   "name": "python3"
  },
  "language_info": {
   "codemirror_mode": {
    "name": "ipython",
    "version": 3
   },
   "file_extension": ".py",
   "mimetype": "text/x-python",
   "name": "python",
   "nbconvert_exporter": "python",
   "pygments_lexer": "ipython3",
   "version": "3.11.5"
  },
  "orig_nbformat": 4
 },
 "nbformat": 4,
 "nbformat_minor": 2
}
